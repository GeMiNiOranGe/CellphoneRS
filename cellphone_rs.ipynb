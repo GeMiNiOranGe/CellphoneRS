{
  "cells": [
    {
      "cell_type": "markdown",
      "metadata": {
        "id": "m0ft6IYEVm3P"
      },
      "source": [
        "# CellphoneRS based on Collaborative filtering"
      ]
    },
    {
      "cell_type": "markdown",
      "metadata": {},
      "source": [
        "Import library"
      ]
    },
    {
      "cell_type": "code",
      "execution_count": 1,
      "metadata": {
        "id": "dU7RLftGVm3b"
      },
      "outputs": [],
      "source": [
        "import pandas as pd\n",
        "import numpy as np\n",
        "import pickle as pkl"
      ]
    },
    {
      "cell_type": "markdown",
      "metadata": {},
      "source": [
        "## Import data"
      ]
    },
    {
      "cell_type": "code",
      "execution_count": 2,
      "metadata": {
        "id": "pDrT8H8uVm3g"
      },
      "outputs": [],
      "source": [
        "phones: pd.DataFrame = pd.read_csv(\n",
        "    filepath_or_buffer=\"data/20191226-items.csv\",\n",
        "    on_bad_lines=\"skip\",\n",
        ")"
      ]
    },
    {
      "cell_type": "code",
      "execution_count": 3,
      "metadata": {},
      "outputs": [],
      "source": [
        "reviews: pd.DataFrame = pd.read_csv(\n",
        "    filepath_or_buffer=\"data/20191226-reviews.csv\",\n",
        "    on_bad_lines=\"skip\",\n",
        ")"
      ]
    },
    {
      "cell_type": "markdown",
      "metadata": {},
      "source": [
        "### Data cleaning"
      ]
    },
    {
      "cell_type": "markdown",
      "metadata": {},
      "source": [
        "Create DataFrame users and write to csv file"
      ]
    },
    {
      "cell_type": "code",
      "execution_count": 4,
      "metadata": {
        "colab": {
          "base_uri": "https://localhost:8080/"
        },
        "id": "klt6Gw-BVm34",
        "outputId": "939a2b19-fc57-4b61-bccd-cc29c6b8ea7f"
      },
      "outputs": [],
      "source": [
        "# get the username column and drop duplicate usernames\n",
        "usernames = reviews[\"name\"].drop_duplicates().reset_index(drop=True)\n",
        "\n",
        "# create user_id column with format ID1, ID2, ...\n",
        "user_id_list = [\"ID\" + str(i + 1) for i in range(len(usernames))]\n",
        "\n",
        "users = pd.DataFrame({\"user_id\": user_id_list, \"username\": usernames})\n",
        "\n",
        "users.to_csv(\"data/user_info.csv\", index=False)"
      ]
    },
    {
      "cell_type": "code",
      "execution_count": 5,
      "metadata": {
        "colab": {
          "base_uri": "https://localhost:8080/",
          "height": 206
        },
        "id": "-4gh7VhJVm35",
        "outputId": "ea431b2c-6986-4581-f77f-23875754e67e"
      },
      "outputs": [
        {
          "name": "stdout",
          "output_type": "stream",
          "text": [
            "user_id | username\n",
            "(47323, 2)\n"
          ]
        },
        {
          "data": {
            "text/html": [
              "<div>\n",
              "<style scoped>\n",
              "    .dataframe tbody tr th:only-of-type {\n",
              "        vertical-align: middle;\n",
              "    }\n",
              "\n",
              "    .dataframe tbody tr th {\n",
              "        vertical-align: top;\n",
              "    }\n",
              "\n",
              "    .dataframe thead th {\n",
              "        text-align: right;\n",
              "    }\n",
              "</style>\n",
              "<table border=\"1\" class=\"dataframe\">\n",
              "  <thead>\n",
              "    <tr style=\"text-align: right;\">\n",
              "      <th></th>\n",
              "      <th>user_id</th>\n",
              "      <th>username</th>\n",
              "    </tr>\n",
              "  </thead>\n",
              "  <tbody>\n",
              "    <tr>\n",
              "      <th>0</th>\n",
              "      <td>ID1</td>\n",
              "      <td>Janet</td>\n",
              "    </tr>\n",
              "    <tr>\n",
              "      <th>1</th>\n",
              "      <td>ID2</td>\n",
              "      <td>Luke Wyatt</td>\n",
              "    </tr>\n",
              "    <tr>\n",
              "      <th>2</th>\n",
              "      <td>ID3</td>\n",
              "      <td>Brooke</td>\n",
              "    </tr>\n",
              "    <tr>\n",
              "      <th>3</th>\n",
              "      <td>ID4</td>\n",
              "      <td>amy m. teague</td>\n",
              "    </tr>\n",
              "    <tr>\n",
              "      <th>4</th>\n",
              "      <td>ID5</td>\n",
              "      <td>tristazbimmer</td>\n",
              "    </tr>\n",
              "  </tbody>\n",
              "</table>\n",
              "</div>"
            ],
            "text/plain": [
              "  user_id       username\n",
              "0     ID1          Janet\n",
              "1     ID2     Luke Wyatt\n",
              "2     ID3         Brooke\n",
              "3     ID4  amy m. teague\n",
              "4     ID5  tristazbimmer"
            ]
          },
          "execution_count": 5,
          "metadata": {},
          "output_type": "execute_result"
        }
      ],
      "source": [
        "print(\" | \".join(list(users.columns)))\n",
        "print(users.shape)\n",
        "users.head()"
      ]
    },
    {
      "cell_type": "markdown",
      "metadata": {},
      "source": [
        "Handle file `20191226-items.csv`"
      ]
    },
    {
      "cell_type": "code",
      "execution_count": 6,
      "metadata": {
        "colab": {
          "base_uri": "https://localhost:8080/",
          "height": 397
        },
        "id": "4G11FVjOVm3l",
        "outputId": "e646c45d-ffca-46fd-c927-509ea1ca76a9"
      },
      "outputs": [
        {
          "data": {
            "text/html": [
              "<div>\n",
              "<style scoped>\n",
              "    .dataframe tbody tr th:only-of-type {\n",
              "        vertical-align: middle;\n",
              "    }\n",
              "\n",
              "    .dataframe tbody tr th {\n",
              "        vertical-align: top;\n",
              "    }\n",
              "\n",
              "    .dataframe thead th {\n",
              "        text-align: right;\n",
              "    }\n",
              "</style>\n",
              "<table border=\"1\" class=\"dataframe\">\n",
              "  <thead>\n",
              "    <tr style=\"text-align: right;\">\n",
              "      <th></th>\n",
              "      <th>asin</th>\n",
              "      <th>brand</th>\n",
              "      <th>title</th>\n",
              "      <th>url</th>\n",
              "      <th>image</th>\n",
              "      <th>rating</th>\n",
              "      <th>reviewUrl</th>\n",
              "      <th>totalReviews</th>\n",
              "      <th>price</th>\n",
              "      <th>originalPrice</th>\n",
              "    </tr>\n",
              "  </thead>\n",
              "  <tbody>\n",
              "    <tr>\n",
              "      <th>0</th>\n",
              "      <td>B0000SX2UC</td>\n",
              "      <td>NaN</td>\n",
              "      <td>Dual-Band / Tri-Mode Sprint PCS Phone w/ Voice...</td>\n",
              "      <td>https://www.amazon.com/Dual-Band-Tri-Mode-Acti...</td>\n",
              "      <td>https://m.media-amazon.com/images/I/2143EBQ210...</td>\n",
              "      <td>3.0</td>\n",
              "      <td>https://www.amazon.com/product-reviews/B0000SX2UC</td>\n",
              "      <td>14</td>\n",
              "      <td>0.00</td>\n",
              "      <td>0.0</td>\n",
              "    </tr>\n",
              "    <tr>\n",
              "      <th>1</th>\n",
              "      <td>B0009N5L7K</td>\n",
              "      <td>Motorola</td>\n",
              "      <td>Motorola I265 phone</td>\n",
              "      <td>https://www.amazon.com/Motorola-i265-I265-phon...</td>\n",
              "      <td>https://m.media-amazon.com/images/I/419WBAVDAR...</td>\n",
              "      <td>3.0</td>\n",
              "      <td>https://www.amazon.com/product-reviews/B0009N5L7K</td>\n",
              "      <td>7</td>\n",
              "      <td>49.95</td>\n",
              "      <td>0.0</td>\n",
              "    </tr>\n",
              "    <tr>\n",
              "      <th>2</th>\n",
              "      <td>B000SKTZ0S</td>\n",
              "      <td>Motorola</td>\n",
              "      <td>MOTOROLA C168i AT&amp;T CINGULAR PREPAID GOPHONE C...</td>\n",
              "      <td>https://www.amazon.com/MOTOROLA-C168i-CINGULAR...</td>\n",
              "      <td>https://m.media-amazon.com/images/I/71b+q3ydkI...</td>\n",
              "      <td>2.7</td>\n",
              "      <td>https://www.amazon.com/product-reviews/B000SKTZ0S</td>\n",
              "      <td>22</td>\n",
              "      <td>99.99</td>\n",
              "      <td>0.0</td>\n",
              "    </tr>\n",
              "    <tr>\n",
              "      <th>3</th>\n",
              "      <td>B001AO4OUC</td>\n",
              "      <td>Motorola</td>\n",
              "      <td>Motorola i335 Cell Phone Boost Mobile</td>\n",
              "      <td>https://www.amazon.com/Motorola-i335-Phone-Boo...</td>\n",
              "      <td>https://m.media-amazon.com/images/I/710UO8gdT+...</td>\n",
              "      <td>3.3</td>\n",
              "      <td>https://www.amazon.com/product-reviews/B001AO4OUC</td>\n",
              "      <td>21</td>\n",
              "      <td>0.00</td>\n",
              "      <td>0.0</td>\n",
              "    </tr>\n",
              "    <tr>\n",
              "      <th>4</th>\n",
              "      <td>B001DCJAJG</td>\n",
              "      <td>Motorola</td>\n",
              "      <td>Motorola V365 no contract cellular phone AT&amp;T</td>\n",
              "      <td>https://www.amazon.com/Motorola-V365-contract-...</td>\n",
              "      <td>https://m.media-amazon.com/images/I/61LYNCVrrK...</td>\n",
              "      <td>3.1</td>\n",
              "      <td>https://www.amazon.com/product-reviews/B001DCJAJG</td>\n",
              "      <td>12</td>\n",
              "      <td>149.99</td>\n",
              "      <td>0.0</td>\n",
              "    </tr>\n",
              "  </tbody>\n",
              "</table>\n",
              "</div>"
            ],
            "text/plain": [
              "         asin     brand                                              title  \\\n",
              "0  B0000SX2UC       NaN  Dual-Band / Tri-Mode Sprint PCS Phone w/ Voice...   \n",
              "1  B0009N5L7K  Motorola                                Motorola I265 phone   \n",
              "2  B000SKTZ0S  Motorola  MOTOROLA C168i AT&T CINGULAR PREPAID GOPHONE C...   \n",
              "3  B001AO4OUC  Motorola              Motorola i335 Cell Phone Boost Mobile   \n",
              "4  B001DCJAJG  Motorola      Motorola V365 no contract cellular phone AT&T   \n",
              "\n",
              "                                                 url  \\\n",
              "0  https://www.amazon.com/Dual-Band-Tri-Mode-Acti...   \n",
              "1  https://www.amazon.com/Motorola-i265-I265-phon...   \n",
              "2  https://www.amazon.com/MOTOROLA-C168i-CINGULAR...   \n",
              "3  https://www.amazon.com/Motorola-i335-Phone-Boo...   \n",
              "4  https://www.amazon.com/Motorola-V365-contract-...   \n",
              "\n",
              "                                               image  rating  \\\n",
              "0  https://m.media-amazon.com/images/I/2143EBQ210...     3.0   \n",
              "1  https://m.media-amazon.com/images/I/419WBAVDAR...     3.0   \n",
              "2  https://m.media-amazon.com/images/I/71b+q3ydkI...     2.7   \n",
              "3  https://m.media-amazon.com/images/I/710UO8gdT+...     3.3   \n",
              "4  https://m.media-amazon.com/images/I/61LYNCVrrK...     3.1   \n",
              "\n",
              "                                           reviewUrl  totalReviews   price  \\\n",
              "0  https://www.amazon.com/product-reviews/B0000SX2UC            14    0.00   \n",
              "1  https://www.amazon.com/product-reviews/B0009N5L7K             7   49.95   \n",
              "2  https://www.amazon.com/product-reviews/B000SKTZ0S            22   99.99   \n",
              "3  https://www.amazon.com/product-reviews/B001AO4OUC            21    0.00   \n",
              "4  https://www.amazon.com/product-reviews/B001DCJAJG            12  149.99   \n",
              "\n",
              "   originalPrice  \n",
              "0            0.0  \n",
              "1            0.0  \n",
              "2            0.0  \n",
              "3            0.0  \n",
              "4            0.0  "
            ]
          },
          "execution_count": 6,
          "metadata": {},
          "output_type": "execute_result"
        }
      ],
      "source": [
        "phones.head()"
      ]
    },
    {
      "cell_type": "code",
      "execution_count": 7,
      "metadata": {
        "id": "gYJuNZu1Vm3x"
      },
      "outputs": [],
      "source": [
        "phones = phones[[\"asin\", \"brand\", \"title\", \"url\", \"image\", \"price\", \"originalPrice\"]]"
      ]
    },
    {
      "cell_type": "code",
      "execution_count": 8,
      "metadata": {
        "colab": {
          "base_uri": "https://localhost:8080/",
          "height": 276
        },
        "id": "GLzE5kVbVm3z",
        "outputId": "01905759-c817-484a-eb66-fcc94a26c6cf"
      },
      "outputs": [
        {
          "name": "stdout",
          "output_type": "stream",
          "text": [
            "asin | brand | title | url | image | price | originalPrice\n",
            "(720, 7)\n"
          ]
        },
        {
          "data": {
            "text/html": [
              "<div>\n",
              "<style scoped>\n",
              "    .dataframe tbody tr th:only-of-type {\n",
              "        vertical-align: middle;\n",
              "    }\n",
              "\n",
              "    .dataframe tbody tr th {\n",
              "        vertical-align: top;\n",
              "    }\n",
              "\n",
              "    .dataframe thead th {\n",
              "        text-align: right;\n",
              "    }\n",
              "</style>\n",
              "<table border=\"1\" class=\"dataframe\">\n",
              "  <thead>\n",
              "    <tr style=\"text-align: right;\">\n",
              "      <th></th>\n",
              "      <th>asin</th>\n",
              "      <th>brand</th>\n",
              "      <th>title</th>\n",
              "      <th>url</th>\n",
              "      <th>image</th>\n",
              "      <th>price</th>\n",
              "      <th>originalPrice</th>\n",
              "    </tr>\n",
              "  </thead>\n",
              "  <tbody>\n",
              "    <tr>\n",
              "      <th>0</th>\n",
              "      <td>B0000SX2UC</td>\n",
              "      <td>NaN</td>\n",
              "      <td>Dual-Band / Tri-Mode Sprint PCS Phone w/ Voice...</td>\n",
              "      <td>https://www.amazon.com/Dual-Band-Tri-Mode-Acti...</td>\n",
              "      <td>https://m.media-amazon.com/images/I/2143EBQ210...</td>\n",
              "      <td>0.00</td>\n",
              "      <td>0.0</td>\n",
              "    </tr>\n",
              "    <tr>\n",
              "      <th>1</th>\n",
              "      <td>B0009N5L7K</td>\n",
              "      <td>Motorola</td>\n",
              "      <td>Motorola I265 phone</td>\n",
              "      <td>https://www.amazon.com/Motorola-i265-I265-phon...</td>\n",
              "      <td>https://m.media-amazon.com/images/I/419WBAVDAR...</td>\n",
              "      <td>49.95</td>\n",
              "      <td>0.0</td>\n",
              "    </tr>\n",
              "    <tr>\n",
              "      <th>2</th>\n",
              "      <td>B000SKTZ0S</td>\n",
              "      <td>Motorola</td>\n",
              "      <td>MOTOROLA C168i AT&amp;T CINGULAR PREPAID GOPHONE C...</td>\n",
              "      <td>https://www.amazon.com/MOTOROLA-C168i-CINGULAR...</td>\n",
              "      <td>https://m.media-amazon.com/images/I/71b+q3ydkI...</td>\n",
              "      <td>99.99</td>\n",
              "      <td>0.0</td>\n",
              "    </tr>\n",
              "    <tr>\n",
              "      <th>3</th>\n",
              "      <td>B001AO4OUC</td>\n",
              "      <td>Motorola</td>\n",
              "      <td>Motorola i335 Cell Phone Boost Mobile</td>\n",
              "      <td>https://www.amazon.com/Motorola-i335-Phone-Boo...</td>\n",
              "      <td>https://m.media-amazon.com/images/I/710UO8gdT+...</td>\n",
              "      <td>0.00</td>\n",
              "      <td>0.0</td>\n",
              "    </tr>\n",
              "    <tr>\n",
              "      <th>4</th>\n",
              "      <td>B001DCJAJG</td>\n",
              "      <td>Motorola</td>\n",
              "      <td>Motorola V365 no contract cellular phone AT&amp;T</td>\n",
              "      <td>https://www.amazon.com/Motorola-V365-contract-...</td>\n",
              "      <td>https://m.media-amazon.com/images/I/61LYNCVrrK...</td>\n",
              "      <td>149.99</td>\n",
              "      <td>0.0</td>\n",
              "    </tr>\n",
              "  </tbody>\n",
              "</table>\n",
              "</div>"
            ],
            "text/plain": [
              "         asin     brand                                              title  \\\n",
              "0  B0000SX2UC       NaN  Dual-Band / Tri-Mode Sprint PCS Phone w/ Voice...   \n",
              "1  B0009N5L7K  Motorola                                Motorola I265 phone   \n",
              "2  B000SKTZ0S  Motorola  MOTOROLA C168i AT&T CINGULAR PREPAID GOPHONE C...   \n",
              "3  B001AO4OUC  Motorola              Motorola i335 Cell Phone Boost Mobile   \n",
              "4  B001DCJAJG  Motorola      Motorola V365 no contract cellular phone AT&T   \n",
              "\n",
              "                                                 url  \\\n",
              "0  https://www.amazon.com/Dual-Band-Tri-Mode-Acti...   \n",
              "1  https://www.amazon.com/Motorola-i265-I265-phon...   \n",
              "2  https://www.amazon.com/MOTOROLA-C168i-CINGULAR...   \n",
              "3  https://www.amazon.com/Motorola-i335-Phone-Boo...   \n",
              "4  https://www.amazon.com/Motorola-V365-contract-...   \n",
              "\n",
              "                                               image   price  originalPrice  \n",
              "0  https://m.media-amazon.com/images/I/2143EBQ210...    0.00            0.0  \n",
              "1  https://m.media-amazon.com/images/I/419WBAVDAR...   49.95            0.0  \n",
              "2  https://m.media-amazon.com/images/I/71b+q3ydkI...   99.99            0.0  \n",
              "3  https://m.media-amazon.com/images/I/710UO8gdT+...    0.00            0.0  \n",
              "4  https://m.media-amazon.com/images/I/61LYNCVrrK...  149.99            0.0  "
            ]
          },
          "execution_count": 8,
          "metadata": {},
          "output_type": "execute_result"
        }
      ],
      "source": [
        "print(\" | \".join(list(phones.columns)))\n",
        "print(phones.shape)\n",
        "phones.head()"
      ]
    },
    {
      "cell_type": "markdown",
      "metadata": {},
      "source": [
        "Check image url"
      ]
    },
    {
      "cell_type": "code",
      "execution_count": 9,
      "metadata": {
        "colab": {
          "base_uri": "https://localhost:8080/",
          "height": 35
        },
        "id": "Ed4Vi0B_Vm3n",
        "outputId": "423f54b7-e81d-475e-9639-f96fe70a09f8"
      },
      "outputs": [
        {
          "data": {
            "text/plain": [
              "'https://m.media-amazon.com/images/I/61ZeEiavaTL._AC_UY218_ML3_.jpg'"
            ]
          },
          "execution_count": 9,
          "metadata": {},
          "output_type": "execute_result"
        }
      ],
      "source": [
        "phones.iloc[237]['image']"
      ]
    },
    {
      "cell_type": "markdown",
      "metadata": {},
      "source": [
        "Handle file `20191226-reviews.csv`"
      ]
    },
    {
      "cell_type": "code",
      "execution_count": 10,
      "metadata": {
        "colab": {
          "base_uri": "https://localhost:8080/",
          "height": 206
        },
        "id": "eg1UT1v0Vm39",
        "outputId": "844a24cf-f057-44b9-a5c1-1444c971f5df"
      },
      "outputs": [
        {
          "data": {
            "text/html": [
              "<div>\n",
              "<style scoped>\n",
              "    .dataframe tbody tr th:only-of-type {\n",
              "        vertical-align: middle;\n",
              "    }\n",
              "\n",
              "    .dataframe tbody tr th {\n",
              "        vertical-align: top;\n",
              "    }\n",
              "\n",
              "    .dataframe thead th {\n",
              "        text-align: right;\n",
              "    }\n",
              "</style>\n",
              "<table border=\"1\" class=\"dataframe\">\n",
              "  <thead>\n",
              "    <tr style=\"text-align: right;\">\n",
              "      <th></th>\n",
              "      <th>asin</th>\n",
              "      <th>name</th>\n",
              "      <th>rating</th>\n",
              "      <th>date</th>\n",
              "      <th>verified</th>\n",
              "      <th>title</th>\n",
              "      <th>body</th>\n",
              "      <th>helpfulVotes</th>\n",
              "    </tr>\n",
              "  </thead>\n",
              "  <tbody>\n",
              "    <tr>\n",
              "      <th>0</th>\n",
              "      <td>B0000SX2UC</td>\n",
              "      <td>Janet</td>\n",
              "      <td>3</td>\n",
              "      <td>October 11, 2005</td>\n",
              "      <td>False</td>\n",
              "      <td>Def not best, but not worst</td>\n",
              "      <td>I had the Samsung A600 for awhile which is abs...</td>\n",
              "      <td>1.0</td>\n",
              "    </tr>\n",
              "    <tr>\n",
              "      <th>1</th>\n",
              "      <td>B0000SX2UC</td>\n",
              "      <td>Luke Wyatt</td>\n",
              "      <td>1</td>\n",
              "      <td>January 7, 2004</td>\n",
              "      <td>False</td>\n",
              "      <td>Text Messaging Doesn't Work</td>\n",
              "      <td>Due to a software issue between Nokia and Spri...</td>\n",
              "      <td>17.0</td>\n",
              "    </tr>\n",
              "    <tr>\n",
              "      <th>2</th>\n",
              "      <td>B0000SX2UC</td>\n",
              "      <td>Brooke</td>\n",
              "      <td>5</td>\n",
              "      <td>December 30, 2003</td>\n",
              "      <td>False</td>\n",
              "      <td>Love This Phone</td>\n",
              "      <td>This is a great, reliable phone. I also purcha...</td>\n",
              "      <td>5.0</td>\n",
              "    </tr>\n",
              "    <tr>\n",
              "      <th>3</th>\n",
              "      <td>B0000SX2UC</td>\n",
              "      <td>amy m. teague</td>\n",
              "      <td>3</td>\n",
              "      <td>March 18, 2004</td>\n",
              "      <td>False</td>\n",
              "      <td>Love the Phone, BUT...!</td>\n",
              "      <td>I love the phone and all, because I really did...</td>\n",
              "      <td>1.0</td>\n",
              "    </tr>\n",
              "    <tr>\n",
              "      <th>4</th>\n",
              "      <td>B0000SX2UC</td>\n",
              "      <td>tristazbimmer</td>\n",
              "      <td>4</td>\n",
              "      <td>August 28, 2005</td>\n",
              "      <td>False</td>\n",
              "      <td>Great phone service and options, lousy case!</td>\n",
              "      <td>The phone has been great for every purpose it ...</td>\n",
              "      <td>1.0</td>\n",
              "    </tr>\n",
              "  </tbody>\n",
              "</table>\n",
              "</div>"
            ],
            "text/plain": [
              "         asin           name  rating               date  verified  \\\n",
              "0  B0000SX2UC          Janet       3   October 11, 2005     False   \n",
              "1  B0000SX2UC     Luke Wyatt       1    January 7, 2004     False   \n",
              "2  B0000SX2UC         Brooke       5  December 30, 2003     False   \n",
              "3  B0000SX2UC  amy m. teague       3     March 18, 2004     False   \n",
              "4  B0000SX2UC  tristazbimmer       4    August 28, 2005     False   \n",
              "\n",
              "                                          title  \\\n",
              "0                   Def not best, but not worst   \n",
              "1                   Text Messaging Doesn't Work   \n",
              "2                               Love This Phone   \n",
              "3                       Love the Phone, BUT...!   \n",
              "4  Great phone service and options, lousy case!   \n",
              "\n",
              "                                                body  helpfulVotes  \n",
              "0  I had the Samsung A600 for awhile which is abs...           1.0  \n",
              "1  Due to a software issue between Nokia and Spri...          17.0  \n",
              "2  This is a great, reliable phone. I also purcha...           5.0  \n",
              "3  I love the phone and all, because I really did...           1.0  \n",
              "4  The phone has been great for every purpose it ...           1.0  "
            ]
          },
          "execution_count": 10,
          "metadata": {},
          "output_type": "execute_result"
        }
      ],
      "source": [
        "reviews.head()"
      ]
    },
    {
      "cell_type": "code",
      "execution_count": 11,
      "metadata": {
        "id": "kuOw7MLNoWVo"
      },
      "outputs": [],
      "source": [
        "reviews = reviews[['asin','name','rating']]"
      ]
    },
    {
      "cell_type": "markdown",
      "metadata": {},
      "source": [
        "Lets remane some wierd columns name"
      ]
    },
    {
      "cell_type": "code",
      "execution_count": 12,
      "metadata": {
        "id": "DM6KLT1-Vm3_"
      },
      "outputs": [],
      "source": [
        "reviews.rename(\n",
        "    columns={\n",
        "        \"name\": \"user_id\",\n",
        "        \"rating\": \"rating\",\n",
        "    },\n",
        "    inplace=True,\n",
        ")"
      ]
    },
    {
      "cell_type": "code",
      "execution_count": 13,
      "metadata": {
        "colab": {
          "base_uri": "https://localhost:8080/",
          "height": 112
        },
        "id": "snDSr8emVm3_",
        "outputId": "ade868e1-4f24-45a5-c97f-b207db829176"
      },
      "outputs": [
        {
          "name": "stdout",
          "output_type": "stream",
          "text": [
            "asin | user_id | rating\n",
            "(67986, 3)\n"
          ]
        },
        {
          "data": {
            "text/html": [
              "<div>\n",
              "<style scoped>\n",
              "    .dataframe tbody tr th:only-of-type {\n",
              "        vertical-align: middle;\n",
              "    }\n",
              "\n",
              "    .dataframe tbody tr th {\n",
              "        vertical-align: top;\n",
              "    }\n",
              "\n",
              "    .dataframe thead th {\n",
              "        text-align: right;\n",
              "    }\n",
              "</style>\n",
              "<table border=\"1\" class=\"dataframe\">\n",
              "  <thead>\n",
              "    <tr style=\"text-align: right;\">\n",
              "      <th></th>\n",
              "      <th>asin</th>\n",
              "      <th>user_id</th>\n",
              "      <th>rating</th>\n",
              "    </tr>\n",
              "  </thead>\n",
              "  <tbody>\n",
              "    <tr>\n",
              "      <th>0</th>\n",
              "      <td>B0000SX2UC</td>\n",
              "      <td>Janet</td>\n",
              "      <td>3</td>\n",
              "    </tr>\n",
              "    <tr>\n",
              "      <th>1</th>\n",
              "      <td>B0000SX2UC</td>\n",
              "      <td>Luke Wyatt</td>\n",
              "      <td>1</td>\n",
              "    </tr>\n",
              "    <tr>\n",
              "      <th>2</th>\n",
              "      <td>B0000SX2UC</td>\n",
              "      <td>Brooke</td>\n",
              "      <td>5</td>\n",
              "    </tr>\n",
              "    <tr>\n",
              "      <th>3</th>\n",
              "      <td>B0000SX2UC</td>\n",
              "      <td>amy m. teague</td>\n",
              "      <td>3</td>\n",
              "    </tr>\n",
              "    <tr>\n",
              "      <th>4</th>\n",
              "      <td>B0000SX2UC</td>\n",
              "      <td>tristazbimmer</td>\n",
              "      <td>4</td>\n",
              "    </tr>\n",
              "  </tbody>\n",
              "</table>\n",
              "</div>"
            ],
            "text/plain": [
              "         asin        user_id  rating\n",
              "0  B0000SX2UC          Janet       3\n",
              "1  B0000SX2UC     Luke Wyatt       1\n",
              "2  B0000SX2UC         Brooke       5\n",
              "3  B0000SX2UC  amy m. teague       3\n",
              "4  B0000SX2UC  tristazbimmer       4"
            ]
          },
          "execution_count": 13,
          "metadata": {},
          "output_type": "execute_result"
        }
      ],
      "source": [
        "print(\" | \".join(list(reviews.columns)))\n",
        "print(reviews.shape)\n",
        "reviews.head()"
      ]
    },
    {
      "cell_type": "markdown",
      "metadata": {
        "id": "LHHhwyzyVm4A"
      },
      "source": [
        "### Create artifacts"
      ]
    },
    {
      "cell_type": "code",
      "execution_count": 14,
      "metadata": {
        "colab": {
          "base_uri": "https://localhost:8080/"
        },
        "id": "tpSqMP6ZVm4B",
        "outputId": "0179931c-011d-4367-b973-9e9717291a6b"
      },
      "outputs": [
        {
          "data": {
            "text/plain": [
              "user_id\n",
              "Amazon Customer        6507\n",
              "Kindle Customer         360\n",
              "Chris                    89\n",
              "John                     87\n",
              "Michael                  77\n",
              "                       ... \n",
              "David L.G. Crawford       1\n",
              "Paul Ramone               1\n",
              "Anya Rochester            1\n",
              "Glenda S.                 1\n",
              "Owen Gonzalez             1\n",
              "Name: count, Length: 47322, dtype: int64"
            ]
          },
          "execution_count": 14,
          "metadata": {},
          "output_type": "execute_result"
        }
      ],
      "source": [
        "reviews['user_id'].value_counts()"
      ]
    },
    {
      "cell_type": "code",
      "execution_count": 15,
      "metadata": {
        "colab": {
          "base_uri": "https://localhost:8080/"
        },
        "id": "Wz-swRoTVm4C",
        "outputId": "73ee671b-531d-4666-822c-bdb94ed6f35b"
      },
      "outputs": [
        {
          "data": {
            "text/plain": [
              "(47322,)"
            ]
          },
          "execution_count": 15,
          "metadata": {},
          "output_type": "execute_result"
        }
      ],
      "source": [
        "reviews['user_id'].value_counts().shape"
      ]
    },
    {
      "cell_type": "code",
      "execution_count": 16,
      "metadata": {
        "colab": {
          "base_uri": "https://localhost:8080/"
        },
        "id": "eoAKuYydVm4D",
        "outputId": "c6b0c626-1eeb-4db0-c73b-0275243fdb25"
      },
      "outputs": [
        {
          "data": {
            "text/plain": [
              "(47323,)"
            ]
          },
          "execution_count": 16,
          "metadata": {},
          "output_type": "execute_result"
        }
      ],
      "source": [
        "reviews['user_id'].unique().shape"
      ]
    },
    {
      "cell_type": "code",
      "execution_count": 17,
      "metadata": {
        "id": "EMmV1q_gVm4F"
      },
      "outputs": [],
      "source": [
        "# Lets store users who had at least rated more than 200 books\n",
        "x = reviews['user_id'].value_counts() > 200"
      ]
    },
    {
      "cell_type": "code",
      "execution_count": 18,
      "metadata": {
        "colab": {
          "base_uri": "https://localhost:8080/"
        },
        "id": "EC9nqfaQVm4G",
        "outputId": "313bbc84-eac0-4099-948f-0084b6ca7bcf"
      },
      "outputs": [
        {
          "data": {
            "text/plain": [
              "(2,)"
            ]
          },
          "execution_count": 18,
          "metadata": {},
          "output_type": "execute_result"
        }
      ],
      "source": [
        "x[x].shape"
      ]
    },
    {
      "cell_type": "code",
      "execution_count": 19,
      "metadata": {
        "id": "ZJL6h1fJVm4G"
      },
      "outputs": [],
      "source": [
        "y = x[x].index"
      ]
    },
    {
      "cell_type": "code",
      "execution_count": 20,
      "metadata": {
        "colab": {
          "base_uri": "https://localhost:8080/"
        },
        "id": "SU_a61hGVm4H",
        "outputId": "d05ecfb8-c1cf-46c0-d491-cb9bbedc47f2"
      },
      "outputs": [
        {
          "data": {
            "text/plain": [
              "Index(['Amazon Customer', 'Kindle Customer'], dtype='object', name='user_id')"
            ]
          },
          "execution_count": 20,
          "metadata": {},
          "output_type": "execute_result"
        }
      ],
      "source": [
        "y"
      ]
    },
    {
      "cell_type": "code",
      "execution_count": 21,
      "metadata": {
        "id": "55cai4FSVm4J"
      },
      "outputs": [],
      "source": [
        "ratings = reviews[reviews['user_id'].isin(y)]"
      ]
    },
    {
      "cell_type": "code",
      "execution_count": 22,
      "metadata": {
        "colab": {
          "base_uri": "https://localhost:8080/",
          "height": 206
        },
        "id": "WIv-IcKWVm4K",
        "outputId": "53e339d7-9d1d-4e81-8fc7-470848fe685f"
      },
      "outputs": [
        {
          "name": "stdout",
          "output_type": "stream",
          "text": [
            "(6867, 3)\n"
          ]
        },
        {
          "data": {
            "text/html": [
              "<div>\n",
              "<style scoped>\n",
              "    .dataframe tbody tr th:only-of-type {\n",
              "        vertical-align: middle;\n",
              "    }\n",
              "\n",
              "    .dataframe tbody tr th {\n",
              "        vertical-align: top;\n",
              "    }\n",
              "\n",
              "    .dataframe thead th {\n",
              "        text-align: right;\n",
              "    }\n",
              "</style>\n",
              "<table border=\"1\" class=\"dataframe\">\n",
              "  <thead>\n",
              "    <tr style=\"text-align: right;\">\n",
              "      <th></th>\n",
              "      <th>asin</th>\n",
              "      <th>user_id</th>\n",
              "      <th>rating</th>\n",
              "    </tr>\n",
              "  </thead>\n",
              "  <tbody>\n",
              "    <tr>\n",
              "      <th>9</th>\n",
              "      <td>B0000SX2UC</td>\n",
              "      <td>Amazon Customer</td>\n",
              "      <td>3</td>\n",
              "    </tr>\n",
              "    <tr>\n",
              "      <th>27</th>\n",
              "      <td>B000SKTZ0S</td>\n",
              "      <td>Amazon Customer</td>\n",
              "      <td>1</td>\n",
              "    </tr>\n",
              "    <tr>\n",
              "      <th>45</th>\n",
              "      <td>B001AO4OUC</td>\n",
              "      <td>Amazon Customer</td>\n",
              "      <td>5</td>\n",
              "    </tr>\n",
              "    <tr>\n",
              "      <th>64</th>\n",
              "      <td>B001DCJAJG</td>\n",
              "      <td>Kindle Customer</td>\n",
              "      <td>4</td>\n",
              "    </tr>\n",
              "    <tr>\n",
              "      <th>109</th>\n",
              "      <td>B002AS9WEA</td>\n",
              "      <td>Amazon Customer</td>\n",
              "      <td>2</td>\n",
              "    </tr>\n",
              "  </tbody>\n",
              "</table>\n",
              "</div>"
            ],
            "text/plain": [
              "           asin          user_id  rating\n",
              "9    B0000SX2UC  Amazon Customer       3\n",
              "27   B000SKTZ0S  Amazon Customer       1\n",
              "45   B001AO4OUC  Amazon Customer       5\n",
              "64   B001DCJAJG  Kindle Customer       4\n",
              "109  B002AS9WEA  Amazon Customer       2"
            ]
          },
          "execution_count": 22,
          "metadata": {},
          "output_type": "execute_result"
        }
      ],
      "source": [
        "print(ratings.shape)\n",
        "ratings.head()"
      ]
    },
    {
      "cell_type": "code",
      "execution_count": 23,
      "metadata": {
        "id": "77cPKagXVm4L"
      },
      "outputs": [],
      "source": [
        "# Now join ratings with books\n",
        "ratings_with_books = ratings.merge(phones, on='asin')"
      ]
    },
    {
      "cell_type": "code",
      "execution_count": 24,
      "metadata": {
        "colab": {
          "base_uri": "https://localhost:8080/",
          "height": 293
        },
        "id": "KXI3iH_EVm4M",
        "outputId": "905b622b-2157-4fda-a531-e23fb6e8996a"
      },
      "outputs": [
        {
          "name": "stdout",
          "output_type": "stream",
          "text": [
            "(6867, 9)\n"
          ]
        },
        {
          "data": {
            "text/html": [
              "<div>\n",
              "<style scoped>\n",
              "    .dataframe tbody tr th:only-of-type {\n",
              "        vertical-align: middle;\n",
              "    }\n",
              "\n",
              "    .dataframe tbody tr th {\n",
              "        vertical-align: top;\n",
              "    }\n",
              "\n",
              "    .dataframe thead th {\n",
              "        text-align: right;\n",
              "    }\n",
              "</style>\n",
              "<table border=\"1\" class=\"dataframe\">\n",
              "  <thead>\n",
              "    <tr style=\"text-align: right;\">\n",
              "      <th></th>\n",
              "      <th>asin</th>\n",
              "      <th>user_id</th>\n",
              "      <th>rating</th>\n",
              "      <th>brand</th>\n",
              "      <th>title</th>\n",
              "      <th>url</th>\n",
              "      <th>image</th>\n",
              "      <th>price</th>\n",
              "      <th>originalPrice</th>\n",
              "    </tr>\n",
              "  </thead>\n",
              "  <tbody>\n",
              "    <tr>\n",
              "      <th>0</th>\n",
              "      <td>B0000SX2UC</td>\n",
              "      <td>Amazon Customer</td>\n",
              "      <td>3</td>\n",
              "      <td>NaN</td>\n",
              "      <td>Dual-Band / Tri-Mode Sprint PCS Phone w/ Voice...</td>\n",
              "      <td>https://www.amazon.com/Dual-Band-Tri-Mode-Acti...</td>\n",
              "      <td>https://m.media-amazon.com/images/I/2143EBQ210...</td>\n",
              "      <td>0.00</td>\n",
              "      <td>0.0</td>\n",
              "    </tr>\n",
              "    <tr>\n",
              "      <th>1</th>\n",
              "      <td>B000SKTZ0S</td>\n",
              "      <td>Amazon Customer</td>\n",
              "      <td>1</td>\n",
              "      <td>Motorola</td>\n",
              "      <td>MOTOROLA C168i AT&amp;T CINGULAR PREPAID GOPHONE C...</td>\n",
              "      <td>https://www.amazon.com/MOTOROLA-C168i-CINGULAR...</td>\n",
              "      <td>https://m.media-amazon.com/images/I/71b+q3ydkI...</td>\n",
              "      <td>99.99</td>\n",
              "      <td>0.0</td>\n",
              "    </tr>\n",
              "    <tr>\n",
              "      <th>2</th>\n",
              "      <td>B001AO4OUC</td>\n",
              "      <td>Amazon Customer</td>\n",
              "      <td>5</td>\n",
              "      <td>Motorola</td>\n",
              "      <td>Motorola i335 Cell Phone Boost Mobile</td>\n",
              "      <td>https://www.amazon.com/Motorola-i335-Phone-Boo...</td>\n",
              "      <td>https://m.media-amazon.com/images/I/710UO8gdT+...</td>\n",
              "      <td>0.00</td>\n",
              "      <td>0.0</td>\n",
              "    </tr>\n",
              "    <tr>\n",
              "      <th>3</th>\n",
              "      <td>B001DCJAJG</td>\n",
              "      <td>Kindle Customer</td>\n",
              "      <td>4</td>\n",
              "      <td>Motorola</td>\n",
              "      <td>Motorola V365 no contract cellular phone AT&amp;T</td>\n",
              "      <td>https://www.amazon.com/Motorola-V365-contract-...</td>\n",
              "      <td>https://m.media-amazon.com/images/I/61LYNCVrrK...</td>\n",
              "      <td>149.99</td>\n",
              "      <td>0.0</td>\n",
              "    </tr>\n",
              "    <tr>\n",
              "      <th>4</th>\n",
              "      <td>B002AS9WEA</td>\n",
              "      <td>Amazon Customer</td>\n",
              "      <td>2</td>\n",
              "      <td>Samsung</td>\n",
              "      <td>Samsung a167 Prepaid GoPhone (AT&amp;T)</td>\n",
              "      <td>https://www.amazon.com/Samsung-a167-Prepaid-Go...</td>\n",
              "      <td>https://m.media-amazon.com/images/I/61OXcZ-oef...</td>\n",
              "      <td>0.00</td>\n",
              "      <td>0.0</td>\n",
              "    </tr>\n",
              "  </tbody>\n",
              "</table>\n",
              "</div>"
            ],
            "text/plain": [
              "         asin          user_id  rating     brand  \\\n",
              "0  B0000SX2UC  Amazon Customer       3       NaN   \n",
              "1  B000SKTZ0S  Amazon Customer       1  Motorola   \n",
              "2  B001AO4OUC  Amazon Customer       5  Motorola   \n",
              "3  B001DCJAJG  Kindle Customer       4  Motorola   \n",
              "4  B002AS9WEA  Amazon Customer       2   Samsung   \n",
              "\n",
              "                                               title  \\\n",
              "0  Dual-Band / Tri-Mode Sprint PCS Phone w/ Voice...   \n",
              "1  MOTOROLA C168i AT&T CINGULAR PREPAID GOPHONE C...   \n",
              "2              Motorola i335 Cell Phone Boost Mobile   \n",
              "3      Motorola V365 no contract cellular phone AT&T   \n",
              "4                Samsung a167 Prepaid GoPhone (AT&T)   \n",
              "\n",
              "                                                 url  \\\n",
              "0  https://www.amazon.com/Dual-Band-Tri-Mode-Acti...   \n",
              "1  https://www.amazon.com/MOTOROLA-C168i-CINGULAR...   \n",
              "2  https://www.amazon.com/Motorola-i335-Phone-Boo...   \n",
              "3  https://www.amazon.com/Motorola-V365-contract-...   \n",
              "4  https://www.amazon.com/Samsung-a167-Prepaid-Go...   \n",
              "\n",
              "                                               image   price  originalPrice  \n",
              "0  https://m.media-amazon.com/images/I/2143EBQ210...    0.00            0.0  \n",
              "1  https://m.media-amazon.com/images/I/71b+q3ydkI...   99.99            0.0  \n",
              "2  https://m.media-amazon.com/images/I/710UO8gdT+...    0.00            0.0  \n",
              "3  https://m.media-amazon.com/images/I/61LYNCVrrK...  149.99            0.0  \n",
              "4  https://m.media-amazon.com/images/I/61OXcZ-oef...    0.00            0.0  "
            ]
          },
          "execution_count": 24,
          "metadata": {},
          "output_type": "execute_result"
        }
      ],
      "source": [
        "print(ratings_with_books.shape)\n",
        "ratings_with_books.head()"
      ]
    },
    {
      "cell_type": "code",
      "execution_count": 25,
      "metadata": {
        "id": "tP5qJVIaVm4O"
      },
      "outputs": [],
      "source": [
        "number_rating = ratings_with_books.groupby('title')['rating'].count().reset_index()"
      ]
    },
    {
      "cell_type": "code",
      "execution_count": 26,
      "metadata": {
        "colab": {
          "base_uri": "https://localhost:8080/",
          "height": 206
        },
        "id": "UpKK2UTPVm4R",
        "outputId": "7cc60731-906a-4480-c73b-57e0a58d0923"
      },
      "outputs": [
        {
          "data": {
            "text/html": [
              "<div>\n",
              "<style scoped>\n",
              "    .dataframe tbody tr th:only-of-type {\n",
              "        vertical-align: middle;\n",
              "    }\n",
              "\n",
              "    .dataframe tbody tr th {\n",
              "        vertical-align: top;\n",
              "    }\n",
              "\n",
              "    .dataframe thead th {\n",
              "        text-align: right;\n",
              "    }\n",
              "</style>\n",
              "<table border=\"1\" class=\"dataframe\">\n",
              "  <thead>\n",
              "    <tr style=\"text-align: right;\">\n",
              "      <th></th>\n",
              "      <th>title</th>\n",
              "      <th>rating</th>\n",
              "    </tr>\n",
              "  </thead>\n",
              "  <tbody>\n",
              "    <tr>\n",
              "      <th>0</th>\n",
              "      <td>ASUS ZenFone 5Z (ZS620KL-S845-6G64G) - 6.2” FH...</td>\n",
              "      <td>10</td>\n",
              "    </tr>\n",
              "    <tr>\n",
              "      <th>1</th>\n",
              "      <td>ASUS ZenFone Max Plus ZB570TL-MT67-3G32G-BL - ...</td>\n",
              "      <td>15</td>\n",
              "    </tr>\n",
              "    <tr>\n",
              "      <th>2</th>\n",
              "      <td>Apple MGLW2LL/A iPad Air 2 9.7-Inch Retina Dis...</td>\n",
              "      <td>13</td>\n",
              "    </tr>\n",
              "    <tr>\n",
              "      <th>3</th>\n",
              "      <td>Apple iPad Air MF529LL/A (32GB, Wi-Fi + at&amp;T, ...</td>\n",
              "      <td>2</td>\n",
              "    </tr>\n",
              "    <tr>\n",
              "      <th>4</th>\n",
              "      <td>Apple iPad mini 4 (32GB, Wi-Fi + Cellular, Spa...</td>\n",
              "      <td>2</td>\n",
              "    </tr>\n",
              "  </tbody>\n",
              "</table>\n",
              "</div>"
            ],
            "text/plain": [
              "                                               title  rating\n",
              "0  ASUS ZenFone 5Z (ZS620KL-S845-6G64G) - 6.2” FH...      10\n",
              "1  ASUS ZenFone Max Plus ZB570TL-MT67-3G32G-BL - ...      15\n",
              "2  Apple MGLW2LL/A iPad Air 2 9.7-Inch Retina Dis...      13\n",
              "3  Apple iPad Air MF529LL/A (32GB, Wi-Fi + at&T, ...       2\n",
              "4  Apple iPad mini 4 (32GB, Wi-Fi + Cellular, Spa...       2"
            ]
          },
          "execution_count": 26,
          "metadata": {},
          "output_type": "execute_result"
        }
      ],
      "source": [
        "number_rating.head()"
      ]
    },
    {
      "cell_type": "code",
      "execution_count": 27,
      "metadata": {
        "id": "UbA5jQh3Vm4S"
      },
      "outputs": [],
      "source": [
        "number_rating.rename(columns={\"rating\": \"num_of_rating\"}, inplace=True)"
      ]
    },
    {
      "cell_type": "code",
      "execution_count": 28,
      "metadata": {
        "colab": {
          "base_uri": "https://localhost:8080/",
          "height": 206
        },
        "id": "ejKzU0lcVm4T",
        "outputId": "5e9ebdc7-f212-44e2-e8d7-9c54cd2e3b76"
      },
      "outputs": [
        {
          "data": {
            "text/html": [
              "<div>\n",
              "<style scoped>\n",
              "    .dataframe tbody tr th:only-of-type {\n",
              "        vertical-align: middle;\n",
              "    }\n",
              "\n",
              "    .dataframe tbody tr th {\n",
              "        vertical-align: top;\n",
              "    }\n",
              "\n",
              "    .dataframe thead th {\n",
              "        text-align: right;\n",
              "    }\n",
              "</style>\n",
              "<table border=\"1\" class=\"dataframe\">\n",
              "  <thead>\n",
              "    <tr style=\"text-align: right;\">\n",
              "      <th></th>\n",
              "      <th>title</th>\n",
              "      <th>num_of_rating</th>\n",
              "    </tr>\n",
              "  </thead>\n",
              "  <tbody>\n",
              "    <tr>\n",
              "      <th>0</th>\n",
              "      <td>ASUS ZenFone 5Z (ZS620KL-S845-6G64G) - 6.2” FH...</td>\n",
              "      <td>10</td>\n",
              "    </tr>\n",
              "    <tr>\n",
              "      <th>1</th>\n",
              "      <td>ASUS ZenFone Max Plus ZB570TL-MT67-3G32G-BL - ...</td>\n",
              "      <td>15</td>\n",
              "    </tr>\n",
              "    <tr>\n",
              "      <th>2</th>\n",
              "      <td>Apple MGLW2LL/A iPad Air 2 9.7-Inch Retina Dis...</td>\n",
              "      <td>13</td>\n",
              "    </tr>\n",
              "    <tr>\n",
              "      <th>3</th>\n",
              "      <td>Apple iPad Air MF529LL/A (32GB, Wi-Fi + at&amp;T, ...</td>\n",
              "      <td>2</td>\n",
              "    </tr>\n",
              "    <tr>\n",
              "      <th>4</th>\n",
              "      <td>Apple iPad mini 4 (32GB, Wi-Fi + Cellular, Spa...</td>\n",
              "      <td>2</td>\n",
              "    </tr>\n",
              "  </tbody>\n",
              "</table>\n",
              "</div>"
            ],
            "text/plain": [
              "                                               title  num_of_rating\n",
              "0  ASUS ZenFone 5Z (ZS620KL-S845-6G64G) - 6.2” FH...             10\n",
              "1  ASUS ZenFone Max Plus ZB570TL-MT67-3G32G-BL - ...             15\n",
              "2  Apple MGLW2LL/A iPad Air 2 9.7-Inch Retina Dis...             13\n",
              "3  Apple iPad Air MF529LL/A (32GB, Wi-Fi + at&T, ...              2\n",
              "4  Apple iPad mini 4 (32GB, Wi-Fi + Cellular, Spa...              2"
            ]
          },
          "execution_count": 28,
          "metadata": {},
          "output_type": "execute_result"
        }
      ],
      "source": [
        "number_rating.head()"
      ]
    },
    {
      "cell_type": "code",
      "execution_count": 29,
      "metadata": {
        "id": "ssQHy6_qVm4U"
      },
      "outputs": [],
      "source": [
        "final_rating = ratings_with_books.merge(number_rating, on='title')"
      ]
    },
    {
      "cell_type": "code",
      "execution_count": 30,
      "metadata": {
        "colab": {
          "base_uri": "https://localhost:8080/",
          "height": 310
        },
        "id": "BJUwNeKiVm4U",
        "outputId": "495a86d2-afaa-42c5-e4a3-a3687ec955c4"
      },
      "outputs": [
        {
          "name": "stdout",
          "output_type": "stream",
          "text": [
            "(6867, 10)\n"
          ]
        },
        {
          "data": {
            "text/html": [
              "<div>\n",
              "<style scoped>\n",
              "    .dataframe tbody tr th:only-of-type {\n",
              "        vertical-align: middle;\n",
              "    }\n",
              "\n",
              "    .dataframe tbody tr th {\n",
              "        vertical-align: top;\n",
              "    }\n",
              "\n",
              "    .dataframe thead th {\n",
              "        text-align: right;\n",
              "    }\n",
              "</style>\n",
              "<table border=\"1\" class=\"dataframe\">\n",
              "  <thead>\n",
              "    <tr style=\"text-align: right;\">\n",
              "      <th></th>\n",
              "      <th>asin</th>\n",
              "      <th>user_id</th>\n",
              "      <th>rating</th>\n",
              "      <th>brand</th>\n",
              "      <th>title</th>\n",
              "      <th>url</th>\n",
              "      <th>image</th>\n",
              "      <th>price</th>\n",
              "      <th>originalPrice</th>\n",
              "      <th>num_of_rating</th>\n",
              "    </tr>\n",
              "  </thead>\n",
              "  <tbody>\n",
              "    <tr>\n",
              "      <th>0</th>\n",
              "      <td>B0000SX2UC</td>\n",
              "      <td>Amazon Customer</td>\n",
              "      <td>3</td>\n",
              "      <td>NaN</td>\n",
              "      <td>Dual-Band / Tri-Mode Sprint PCS Phone w/ Voice...</td>\n",
              "      <td>https://www.amazon.com/Dual-Band-Tri-Mode-Acti...</td>\n",
              "      <td>https://m.media-amazon.com/images/I/2143EBQ210...</td>\n",
              "      <td>0.00</td>\n",
              "      <td>0.0</td>\n",
              "      <td>1</td>\n",
              "    </tr>\n",
              "    <tr>\n",
              "      <th>1</th>\n",
              "      <td>B000SKTZ0S</td>\n",
              "      <td>Amazon Customer</td>\n",
              "      <td>1</td>\n",
              "      <td>Motorola</td>\n",
              "      <td>MOTOROLA C168i AT&amp;T CINGULAR PREPAID GOPHONE C...</td>\n",
              "      <td>https://www.amazon.com/MOTOROLA-C168i-CINGULAR...</td>\n",
              "      <td>https://m.media-amazon.com/images/I/71b+q3ydkI...</td>\n",
              "      <td>99.99</td>\n",
              "      <td>0.0</td>\n",
              "      <td>1</td>\n",
              "    </tr>\n",
              "    <tr>\n",
              "      <th>2</th>\n",
              "      <td>B001AO4OUC</td>\n",
              "      <td>Amazon Customer</td>\n",
              "      <td>5</td>\n",
              "      <td>Motorola</td>\n",
              "      <td>Motorola i335 Cell Phone Boost Mobile</td>\n",
              "      <td>https://www.amazon.com/Motorola-i335-Phone-Boo...</td>\n",
              "      <td>https://m.media-amazon.com/images/I/710UO8gdT+...</td>\n",
              "      <td>0.00</td>\n",
              "      <td>0.0</td>\n",
              "      <td>1</td>\n",
              "    </tr>\n",
              "    <tr>\n",
              "      <th>3</th>\n",
              "      <td>B001DCJAJG</td>\n",
              "      <td>Kindle Customer</td>\n",
              "      <td>4</td>\n",
              "      <td>Motorola</td>\n",
              "      <td>Motorola V365 no contract cellular phone AT&amp;T</td>\n",
              "      <td>https://www.amazon.com/Motorola-V365-contract-...</td>\n",
              "      <td>https://m.media-amazon.com/images/I/61LYNCVrrK...</td>\n",
              "      <td>149.99</td>\n",
              "      <td>0.0</td>\n",
              "      <td>1</td>\n",
              "    </tr>\n",
              "    <tr>\n",
              "      <th>4</th>\n",
              "      <td>B002AS9WEA</td>\n",
              "      <td>Amazon Customer</td>\n",
              "      <td>2</td>\n",
              "      <td>Samsung</td>\n",
              "      <td>Samsung a167 Prepaid GoPhone (AT&amp;T)</td>\n",
              "      <td>https://www.amazon.com/Samsung-a167-Prepaid-Go...</td>\n",
              "      <td>https://m.media-amazon.com/images/I/61OXcZ-oef...</td>\n",
              "      <td>0.00</td>\n",
              "      <td>0.0</td>\n",
              "      <td>2</td>\n",
              "    </tr>\n",
              "  </tbody>\n",
              "</table>\n",
              "</div>"
            ],
            "text/plain": [
              "         asin          user_id  rating     brand  \\\n",
              "0  B0000SX2UC  Amazon Customer       3       NaN   \n",
              "1  B000SKTZ0S  Amazon Customer       1  Motorola   \n",
              "2  B001AO4OUC  Amazon Customer       5  Motorola   \n",
              "3  B001DCJAJG  Kindle Customer       4  Motorola   \n",
              "4  B002AS9WEA  Amazon Customer       2   Samsung   \n",
              "\n",
              "                                               title  \\\n",
              "0  Dual-Band / Tri-Mode Sprint PCS Phone w/ Voice...   \n",
              "1  MOTOROLA C168i AT&T CINGULAR PREPAID GOPHONE C...   \n",
              "2              Motorola i335 Cell Phone Boost Mobile   \n",
              "3      Motorola V365 no contract cellular phone AT&T   \n",
              "4                Samsung a167 Prepaid GoPhone (AT&T)   \n",
              "\n",
              "                                                 url  \\\n",
              "0  https://www.amazon.com/Dual-Band-Tri-Mode-Acti...   \n",
              "1  https://www.amazon.com/MOTOROLA-C168i-CINGULAR...   \n",
              "2  https://www.amazon.com/Motorola-i335-Phone-Boo...   \n",
              "3  https://www.amazon.com/Motorola-V365-contract-...   \n",
              "4  https://www.amazon.com/Samsung-a167-Prepaid-Go...   \n",
              "\n",
              "                                               image   price  originalPrice  \\\n",
              "0  https://m.media-amazon.com/images/I/2143EBQ210...    0.00            0.0   \n",
              "1  https://m.media-amazon.com/images/I/71b+q3ydkI...   99.99            0.0   \n",
              "2  https://m.media-amazon.com/images/I/710UO8gdT+...    0.00            0.0   \n",
              "3  https://m.media-amazon.com/images/I/61LYNCVrrK...  149.99            0.0   \n",
              "4  https://m.media-amazon.com/images/I/61OXcZ-oef...    0.00            0.0   \n",
              "\n",
              "   num_of_rating  \n",
              "0              1  \n",
              "1              1  \n",
              "2              1  \n",
              "3              1  \n",
              "4              2  "
            ]
          },
          "execution_count": 30,
          "metadata": {},
          "output_type": "execute_result"
        }
      ],
      "source": [
        "print(final_rating.shape)\n",
        "final_rating.head()"
      ]
    },
    {
      "cell_type": "code",
      "execution_count": 31,
      "metadata": {
        "id": "sfeexr6CVm4W"
      },
      "outputs": [],
      "source": [
        "# Lets take those books which got at least 50 rating of user\n",
        "final_rating = final_rating[final_rating['num_of_rating'] >= 50]"
      ]
    },
    {
      "cell_type": "code",
      "execution_count": 32,
      "metadata": {
        "colab": {
          "base_uri": "https://localhost:8080/",
          "height": 293
        },
        "id": "x_91NMyAVm4X",
        "outputId": "460bc0dc-f58d-4e29-88a9-daac2cd6a19d"
      },
      "outputs": [
        {
          "data": {
            "text/html": [
              "<div>\n",
              "<style scoped>\n",
              "    .dataframe tbody tr th:only-of-type {\n",
              "        vertical-align: middle;\n",
              "    }\n",
              "\n",
              "    .dataframe tbody tr th {\n",
              "        vertical-align: top;\n",
              "    }\n",
              "\n",
              "    .dataframe thead th {\n",
              "        text-align: right;\n",
              "    }\n",
              "</style>\n",
              "<table border=\"1\" class=\"dataframe\">\n",
              "  <thead>\n",
              "    <tr style=\"text-align: right;\">\n",
              "      <th></th>\n",
              "      <th>asin</th>\n",
              "      <th>user_id</th>\n",
              "      <th>rating</th>\n",
              "      <th>brand</th>\n",
              "      <th>title</th>\n",
              "      <th>url</th>\n",
              "      <th>image</th>\n",
              "      <th>price</th>\n",
              "      <th>originalPrice</th>\n",
              "      <th>num_of_rating</th>\n",
              "    </tr>\n",
              "  </thead>\n",
              "  <tbody>\n",
              "    <tr>\n",
              "      <th>328</th>\n",
              "      <td>B00E6FGSHY</td>\n",
              "      <td>Kindle Customer</td>\n",
              "      <td>5</td>\n",
              "      <td>Samsung</td>\n",
              "      <td>Samsung Galaxy S4, White Frost 16GB (AT&amp;T)</td>\n",
              "      <td>https://www.amazon.com/Samsung-Galaxy-S4-White...</td>\n",
              "      <td>https://m.media-amazon.com/images/I/81suaO+v0m...</td>\n",
              "      <td>154.97</td>\n",
              "      <td>0.0</td>\n",
              "      <td>64</td>\n",
              "    </tr>\n",
              "    <tr>\n",
              "      <th>329</th>\n",
              "      <td>B00E6FGSHY</td>\n",
              "      <td>Amazon Customer</td>\n",
              "      <td>1</td>\n",
              "      <td>Samsung</td>\n",
              "      <td>Samsung Galaxy S4, White Frost 16GB (AT&amp;T)</td>\n",
              "      <td>https://www.amazon.com/Samsung-Galaxy-S4-White...</td>\n",
              "      <td>https://m.media-amazon.com/images/I/81suaO+v0m...</td>\n",
              "      <td>154.97</td>\n",
              "      <td>0.0</td>\n",
              "      <td>64</td>\n",
              "    </tr>\n",
              "    <tr>\n",
              "      <th>330</th>\n",
              "      <td>B00E6FGSHY</td>\n",
              "      <td>Amazon Customer</td>\n",
              "      <td>5</td>\n",
              "      <td>Samsung</td>\n",
              "      <td>Samsung Galaxy S4, White Frost 16GB (AT&amp;T)</td>\n",
              "      <td>https://www.amazon.com/Samsung-Galaxy-S4-White...</td>\n",
              "      <td>https://m.media-amazon.com/images/I/81suaO+v0m...</td>\n",
              "      <td>154.97</td>\n",
              "      <td>0.0</td>\n",
              "      <td>64</td>\n",
              "    </tr>\n",
              "    <tr>\n",
              "      <th>331</th>\n",
              "      <td>B00E6FGSHY</td>\n",
              "      <td>Amazon Customer</td>\n",
              "      <td>3</td>\n",
              "      <td>Samsung</td>\n",
              "      <td>Samsung Galaxy S4, White Frost 16GB (AT&amp;T)</td>\n",
              "      <td>https://www.amazon.com/Samsung-Galaxy-S4-White...</td>\n",
              "      <td>https://m.media-amazon.com/images/I/81suaO+v0m...</td>\n",
              "      <td>154.97</td>\n",
              "      <td>0.0</td>\n",
              "      <td>64</td>\n",
              "    </tr>\n",
              "    <tr>\n",
              "      <th>332</th>\n",
              "      <td>B00E6FGSHY</td>\n",
              "      <td>Amazon Customer</td>\n",
              "      <td>5</td>\n",
              "      <td>Samsung</td>\n",
              "      <td>Samsung Galaxy S4, White Frost 16GB (AT&amp;T)</td>\n",
              "      <td>https://www.amazon.com/Samsung-Galaxy-S4-White...</td>\n",
              "      <td>https://m.media-amazon.com/images/I/81suaO+v0m...</td>\n",
              "      <td>154.97</td>\n",
              "      <td>0.0</td>\n",
              "      <td>64</td>\n",
              "    </tr>\n",
              "  </tbody>\n",
              "</table>\n",
              "</div>"
            ],
            "text/plain": [
              "           asin          user_id  rating    brand  \\\n",
              "328  B00E6FGSHY  Kindle Customer       5  Samsung   \n",
              "329  B00E6FGSHY  Amazon Customer       1  Samsung   \n",
              "330  B00E6FGSHY  Amazon Customer       5  Samsung   \n",
              "331  B00E6FGSHY  Amazon Customer       3  Samsung   \n",
              "332  B00E6FGSHY  Amazon Customer       5  Samsung   \n",
              "\n",
              "                                          title  \\\n",
              "328  Samsung Galaxy S4, White Frost 16GB (AT&T)   \n",
              "329  Samsung Galaxy S4, White Frost 16GB (AT&T)   \n",
              "330  Samsung Galaxy S4, White Frost 16GB (AT&T)   \n",
              "331  Samsung Galaxy S4, White Frost 16GB (AT&T)   \n",
              "332  Samsung Galaxy S4, White Frost 16GB (AT&T)   \n",
              "\n",
              "                                                   url  \\\n",
              "328  https://www.amazon.com/Samsung-Galaxy-S4-White...   \n",
              "329  https://www.amazon.com/Samsung-Galaxy-S4-White...   \n",
              "330  https://www.amazon.com/Samsung-Galaxy-S4-White...   \n",
              "331  https://www.amazon.com/Samsung-Galaxy-S4-White...   \n",
              "332  https://www.amazon.com/Samsung-Galaxy-S4-White...   \n",
              "\n",
              "                                                 image   price  originalPrice  \\\n",
              "328  https://m.media-amazon.com/images/I/81suaO+v0m...  154.97            0.0   \n",
              "329  https://m.media-amazon.com/images/I/81suaO+v0m...  154.97            0.0   \n",
              "330  https://m.media-amazon.com/images/I/81suaO+v0m...  154.97            0.0   \n",
              "331  https://m.media-amazon.com/images/I/81suaO+v0m...  154.97            0.0   \n",
              "332  https://m.media-amazon.com/images/I/81suaO+v0m...  154.97            0.0   \n",
              "\n",
              "     num_of_rating  \n",
              "328             64  \n",
              "329             64  \n",
              "330             64  \n",
              "331             64  \n",
              "332             64  "
            ]
          },
          "execution_count": 32,
          "metadata": {},
          "output_type": "execute_result"
        }
      ],
      "source": [
        "final_rating.head()"
      ]
    },
    {
      "cell_type": "code",
      "execution_count": 33,
      "metadata": {
        "id": "RtjwNCawyqBx"
      },
      "outputs": [],
      "source": [
        "with open('artifacts/final_rating.pkl', 'wb') as file:\n",
        "    pkl.dump(final_rating, file)"
      ]
    },
    {
      "cell_type": "code",
      "execution_count": 34,
      "metadata": {
        "colab": {
          "base_uri": "https://localhost:8080/"
        },
        "id": "EpdwJLyIVm4X",
        "outputId": "65d96d5b-a986-49e7-f88a-ec41ee8112ff"
      },
      "outputs": [
        {
          "data": {
            "text/plain": [
              "(1992, 10)"
            ]
          },
          "execution_count": 34,
          "metadata": {},
          "output_type": "execute_result"
        }
      ],
      "source": [
        "final_rating.shape"
      ]
    },
    {
      "cell_type": "code",
      "execution_count": 35,
      "metadata": {
        "id": "5OA1tnHsVm4Y"
      },
      "outputs": [],
      "source": [
        "# lets drop the duplicates\n",
        "final_rating.drop_duplicates(['user_id','title'],inplace=True)"
      ]
    },
    {
      "cell_type": "code",
      "execution_count": 36,
      "metadata": {
        "colab": {
          "base_uri": "https://localhost:8080/"
        },
        "id": "k7kIHBeaVm4Z",
        "outputId": "2cc820a4-3645-4268-e417-496e84c99219"
      },
      "outputs": [
        {
          "data": {
            "text/plain": [
              "(48, 10)"
            ]
          },
          "execution_count": 36,
          "metadata": {},
          "output_type": "execute_result"
        }
      ],
      "source": [
        "final_rating.shape"
      ]
    },
    {
      "cell_type": "code",
      "execution_count": 37,
      "metadata": {
        "id": "fhC_H33OVm4a"
      },
      "outputs": [],
      "source": [
        "# Lets create a pivot table\n",
        "user_phone_matrix = final_rating.pivot_table(columns='user_id', index='title', values= 'rating')"
      ]
    },
    {
      "cell_type": "code",
      "execution_count": 38,
      "metadata": {
        "colab": {
          "base_uri": "https://localhost:8080/",
          "height": 868
        },
        "id": "TFuOurnZVm4a",
        "outputId": "c70b0a42-a97c-48da-e198-41991d7b0cfb"
      },
      "outputs": [
        {
          "data": {
            "text/html": [
              "<div>\n",
              "<style scoped>\n",
              "    .dataframe tbody tr th:only-of-type {\n",
              "        vertical-align: middle;\n",
              "    }\n",
              "\n",
              "    .dataframe tbody tr th {\n",
              "        vertical-align: top;\n",
              "    }\n",
              "\n",
              "    .dataframe thead th {\n",
              "        text-align: right;\n",
              "    }\n",
              "</style>\n",
              "<table border=\"1\" class=\"dataframe\">\n",
              "  <thead>\n",
              "    <tr style=\"text-align: right;\">\n",
              "      <th>user_id</th>\n",
              "      <th>Amazon Customer</th>\n",
              "      <th>Kindle Customer</th>\n",
              "    </tr>\n",
              "    <tr>\n",
              "      <th>title</th>\n",
              "      <th></th>\n",
              "      <th></th>\n",
              "    </tr>\n",
              "  </thead>\n",
              "  <tbody>\n",
              "    <tr>\n",
              "      <th>Motorola DROID Turbo XT1254, Black Ballistic Nylon 32GB (Verizon Wireless)</th>\n",
              "      <td>4.0</td>\n",
              "      <td>5.0</td>\n",
              "    </tr>\n",
              "    <tr>\n",
              "      <th>Motorola G6 – 32 GB – Unlocked (AT&amp;T/Sprint/T-Mobile/Verizon) – Deep Indigo - (U.S. Warranty) - PAAE0011US</th>\n",
              "      <td>5.0</td>\n",
              "      <td>1.0</td>\n",
              "    </tr>\n",
              "    <tr>\n",
              "      <th>Nokia Lumia 635 8GB Unlocked GSM 4G LTE Windows 8.1 Quad-Core Phone - Black</th>\n",
              "      <td>5.0</td>\n",
              "      <td>5.0</td>\n",
              "    </tr>\n",
              "    <tr>\n",
              "      <th>Samsung Galaxy A20 US Version Factory Unlocked Cell Phone with 32GB Memory, 6.4\" Screen, [SM-A205UZKAXAA], 12 Month Samsung US Warranty, GSM &amp; CDMA Compatible, Black</th>\n",
              "      <td>5.0</td>\n",
              "      <td>5.0</td>\n",
              "    </tr>\n",
              "    <tr>\n",
              "      <th>Samsung Galaxy J5 SM-J500H/DS GSM Factory Unlocked Smartphone, International Version (Gold)</th>\n",
              "      <td>2.0</td>\n",
              "      <td>2.0</td>\n",
              "    </tr>\n",
              "    <tr>\n",
              "      <th>Samsung Galaxy J7 - Verizon Carrier Locked No Contract Prepaid Smartphone</th>\n",
              "      <td>1.0</td>\n",
              "      <td>5.0</td>\n",
              "    </tr>\n",
              "    <tr>\n",
              "      <th>Samsung Galaxy Note 3, Black 32GB (Verizon Wireless)</th>\n",
              "      <td>5.0</td>\n",
              "      <td>5.0</td>\n",
              "    </tr>\n",
              "    <tr>\n",
              "      <th>Samsung Galaxy Note 5 SM-N920V Gold 32GB (Verizon Wireless)</th>\n",
              "      <td>1.0</td>\n",
              "      <td>5.0</td>\n",
              "    </tr>\n",
              "    <tr>\n",
              "      <th>Samsung Galaxy Note 5, Black  64GB (Verizon Wireless)</th>\n",
              "      <td>1.0</td>\n",
              "      <td>5.0</td>\n",
              "    </tr>\n",
              "    <tr>\n",
              "      <th>Samsung Galaxy Note 8 N950 Factory Unlocked Phone 64GB Midnight Black (Renewed)</th>\n",
              "      <td>1.0</td>\n",
              "      <td>5.0</td>\n",
              "    </tr>\n",
              "    <tr>\n",
              "      <th>Samsung Galaxy Note 9 Factory Unlocked Phone with 6.4\" Screen and 128GB (U.S. Warranty), Ocean Blue</th>\n",
              "      <td>1.0</td>\n",
              "      <td>5.0</td>\n",
              "    </tr>\n",
              "    <tr>\n",
              "      <th>Samsung Galaxy S4, White Frost 16GB (AT&amp;T)</th>\n",
              "      <td>1.0</td>\n",
              "      <td>5.0</td>\n",
              "    </tr>\n",
              "    <tr>\n",
              "      <th>Samsung Galaxy S5 G900V Verizon 4G LTE Smartphone w/ 16MP Camera - Black - Verizon</th>\n",
              "      <td>4.0</td>\n",
              "      <td>1.0</td>\n",
              "    </tr>\n",
              "    <tr>\n",
              "      <th>Samsung Galaxy S6 Active, 32 GB , Grey (AT&amp;T)</th>\n",
              "      <td>1.0</td>\n",
              "      <td>1.0</td>\n",
              "    </tr>\n",
              "    <tr>\n",
              "      <th>Samsung Galaxy S6 Edge, White Pearl 32GB (Verizon Wireless)</th>\n",
              "      <td>4.0</td>\n",
              "      <td>1.0</td>\n",
              "    </tr>\n",
              "    <tr>\n",
              "      <th>Samsung Galaxy S6 G920A 32GB Unlocked GSM 4G LTE Octa-Core Android Smartphone with 16MP Camera - Black Sapphire</th>\n",
              "      <td>1.0</td>\n",
              "      <td>1.0</td>\n",
              "    </tr>\n",
              "    <tr>\n",
              "      <th>Samsung Galaxy S7 - Black - 32GB - Verizon (Renewed)</th>\n",
              "      <td>1.0</td>\n",
              "      <td>5.0</td>\n",
              "    </tr>\n",
              "    <tr>\n",
              "      <th>Samsung Galaxy S7 EDGE G935V 32GB, Verizon/GSM Unlocked, (Renewed) (Black)</th>\n",
              "      <td>1.0</td>\n",
              "      <td>1.0</td>\n",
              "    </tr>\n",
              "    <tr>\n",
              "      <th>Samsung Galaxy S7 Edge G935FD 32GB Unlocked GSM 4G LTE</th>\n",
              "      <td>5.0</td>\n",
              "      <td>5.0</td>\n",
              "    </tr>\n",
              "    <tr>\n",
              "      <th>Samsung Galaxy S7 Edge G935V 32GB Gold - Verizon (Renewed)</th>\n",
              "      <td>1.0</td>\n",
              "      <td>1.0</td>\n",
              "    </tr>\n",
              "    <tr>\n",
              "      <th>Samsung Galaxy S7 SM-G930A AT&amp;T Unlocked Smartphone, (Black Onyx)</th>\n",
              "      <td>1.0</td>\n",
              "      <td>5.0</td>\n",
              "    </tr>\n",
              "    <tr>\n",
              "      <th>Samsung Galaxy S8 Plus (S8+) (SM-G955FD) 4GB RAM / 64GB ROM 6.2-Inch 12MP 4G LTE Dual SIM FACTORY UNLOCKED - International Stock No Warranty (MIDNIGHT BLACK)</th>\n",
              "      <td>4.0</td>\n",
              "      <td>5.0</td>\n",
              "    </tr>\n",
              "    <tr>\n",
              "      <th>Samsung Galaxy S8+ 64GB Factory Unlocked Smartphone - 6.2\" Screen - US Version (Midnight Black) - US Warranty [SM-G955UZKAXAA]</th>\n",
              "      <td>1.0</td>\n",
              "      <td>2.0</td>\n",
              "    </tr>\n",
              "    <tr>\n",
              "      <th>Sony Xperia XA Ultra (F3213) 4G LTE Unlocked GSM Phone w/ 6” Borderless Display, 21.5MP+16MP Cameras, Octa-Core CPU - White</th>\n",
              "      <td>2.0</td>\n",
              "      <td>3.0</td>\n",
              "    </tr>\n",
              "  </tbody>\n",
              "</table>\n",
              "</div>"
            ],
            "text/plain": [
              "user_id                                             Amazon Customer  \\\n",
              "title                                                                 \n",
              "Motorola DROID Turbo XT1254, Black Ballistic Ny...              4.0   \n",
              "Motorola G6 – 32 GB – Unlocked (AT&T/Sprint/T-M...              5.0   \n",
              "Nokia Lumia 635 8GB Unlocked GSM 4G LTE Windows...              5.0   \n",
              "Samsung Galaxy A20 US Version Factory Unlocked ...              5.0   \n",
              "Samsung Galaxy J5 SM-J500H/DS GSM Factory Unloc...              2.0   \n",
              "Samsung Galaxy J7 - Verizon Carrier Locked No C...              1.0   \n",
              "Samsung Galaxy Note 3, Black 32GB (Verizon Wire...              5.0   \n",
              "Samsung Galaxy Note 5 SM-N920V Gold 32GB (Veriz...              1.0   \n",
              "Samsung Galaxy Note 5, Black  64GB (Verizon Wir...              1.0   \n",
              "Samsung Galaxy Note 8 N950 Factory Unlocked Pho...              1.0   \n",
              "Samsung Galaxy Note 9 Factory Unlocked Phone wi...              1.0   \n",
              "Samsung Galaxy S4, White Frost 16GB (AT&T)                      1.0   \n",
              "Samsung Galaxy S5 G900V Verizon 4G LTE Smartpho...              4.0   \n",
              "Samsung Galaxy S6 Active, 32 GB , Grey (AT&T)                   1.0   \n",
              "Samsung Galaxy S6 Edge, White Pearl 32GB (Veriz...              4.0   \n",
              "Samsung Galaxy S6 G920A 32GB Unlocked GSM 4G LT...              1.0   \n",
              "Samsung Galaxy S7 - Black - 32GB - Verizon (Ren...              1.0   \n",
              "Samsung Galaxy S7 EDGE G935V 32GB, Verizon/GSM ...              1.0   \n",
              "Samsung Galaxy S7 Edge G935FD 32GB Unlocked GSM...              5.0   \n",
              "Samsung Galaxy S7 Edge G935V 32GB Gold - Verizo...              1.0   \n",
              "Samsung Galaxy S7 SM-G930A AT&T Unlocked Smartp...              1.0   \n",
              "Samsung Galaxy S8 Plus (S8+) (SM-G955FD) 4GB RA...              4.0   \n",
              "Samsung Galaxy S8+ 64GB Factory Unlocked Smartp...              1.0   \n",
              "Sony Xperia XA Ultra (F3213) 4G LTE Unlocked GS...              2.0   \n",
              "\n",
              "user_id                                             Kindle Customer  \n",
              "title                                                                \n",
              "Motorola DROID Turbo XT1254, Black Ballistic Ny...              5.0  \n",
              "Motorola G6 – 32 GB – Unlocked (AT&T/Sprint/T-M...              1.0  \n",
              "Nokia Lumia 635 8GB Unlocked GSM 4G LTE Windows...              5.0  \n",
              "Samsung Galaxy A20 US Version Factory Unlocked ...              5.0  \n",
              "Samsung Galaxy J5 SM-J500H/DS GSM Factory Unloc...              2.0  \n",
              "Samsung Galaxy J7 - Verizon Carrier Locked No C...              5.0  \n",
              "Samsung Galaxy Note 3, Black 32GB (Verizon Wire...              5.0  \n",
              "Samsung Galaxy Note 5 SM-N920V Gold 32GB (Veriz...              5.0  \n",
              "Samsung Galaxy Note 5, Black  64GB (Verizon Wir...              5.0  \n",
              "Samsung Galaxy Note 8 N950 Factory Unlocked Pho...              5.0  \n",
              "Samsung Galaxy Note 9 Factory Unlocked Phone wi...              5.0  \n",
              "Samsung Galaxy S4, White Frost 16GB (AT&T)                      5.0  \n",
              "Samsung Galaxy S5 G900V Verizon 4G LTE Smartpho...              1.0  \n",
              "Samsung Galaxy S6 Active, 32 GB , Grey (AT&T)                   1.0  \n",
              "Samsung Galaxy S6 Edge, White Pearl 32GB (Veriz...              1.0  \n",
              "Samsung Galaxy S6 G920A 32GB Unlocked GSM 4G LT...              1.0  \n",
              "Samsung Galaxy S7 - Black - 32GB - Verizon (Ren...              5.0  \n",
              "Samsung Galaxy S7 EDGE G935V 32GB, Verizon/GSM ...              1.0  \n",
              "Samsung Galaxy S7 Edge G935FD 32GB Unlocked GSM...              5.0  \n",
              "Samsung Galaxy S7 Edge G935V 32GB Gold - Verizo...              1.0  \n",
              "Samsung Galaxy S7 SM-G930A AT&T Unlocked Smartp...              5.0  \n",
              "Samsung Galaxy S8 Plus (S8+) (SM-G955FD) 4GB RA...              5.0  \n",
              "Samsung Galaxy S8+ 64GB Factory Unlocked Smartp...              2.0  \n",
              "Sony Xperia XA Ultra (F3213) 4G LTE Unlocked GS...              3.0  "
            ]
          },
          "execution_count": 38,
          "metadata": {},
          "output_type": "execute_result"
        }
      ],
      "source": [
        "user_phone_matrix"
      ]
    },
    {
      "cell_type": "code",
      "execution_count": 39,
      "metadata": {
        "id": "72N-CTXfVm4d"
      },
      "outputs": [],
      "source": [
        "user_phone_matrix.fillna(0, inplace=True)"
      ]
    },
    {
      "cell_type": "code",
      "execution_count": 40,
      "metadata": {
        "colab": {
          "base_uri": "https://localhost:8080/",
          "height": 868
        },
        "id": "_mMEMCeUVm4e",
        "outputId": "40637077-8293-49a9-9bc6-1cd1a413870c"
      },
      "outputs": [
        {
          "name": "stdout",
          "output_type": "stream",
          "text": [
            "(24, 2)\n"
          ]
        },
        {
          "data": {
            "text/html": [
              "<div>\n",
              "<style scoped>\n",
              "    .dataframe tbody tr th:only-of-type {\n",
              "        vertical-align: middle;\n",
              "    }\n",
              "\n",
              "    .dataframe tbody tr th {\n",
              "        vertical-align: top;\n",
              "    }\n",
              "\n",
              "    .dataframe thead th {\n",
              "        text-align: right;\n",
              "    }\n",
              "</style>\n",
              "<table border=\"1\" class=\"dataframe\">\n",
              "  <thead>\n",
              "    <tr style=\"text-align: right;\">\n",
              "      <th>user_id</th>\n",
              "      <th>Amazon Customer</th>\n",
              "      <th>Kindle Customer</th>\n",
              "    </tr>\n",
              "    <tr>\n",
              "      <th>title</th>\n",
              "      <th></th>\n",
              "      <th></th>\n",
              "    </tr>\n",
              "  </thead>\n",
              "  <tbody>\n",
              "    <tr>\n",
              "      <th>Motorola DROID Turbo XT1254, Black Ballistic Nylon 32GB (Verizon Wireless)</th>\n",
              "      <td>4.0</td>\n",
              "      <td>5.0</td>\n",
              "    </tr>\n",
              "    <tr>\n",
              "      <th>Motorola G6 – 32 GB – Unlocked (AT&amp;T/Sprint/T-Mobile/Verizon) – Deep Indigo - (U.S. Warranty) - PAAE0011US</th>\n",
              "      <td>5.0</td>\n",
              "      <td>1.0</td>\n",
              "    </tr>\n",
              "    <tr>\n",
              "      <th>Nokia Lumia 635 8GB Unlocked GSM 4G LTE Windows 8.1 Quad-Core Phone - Black</th>\n",
              "      <td>5.0</td>\n",
              "      <td>5.0</td>\n",
              "    </tr>\n",
              "    <tr>\n",
              "      <th>Samsung Galaxy A20 US Version Factory Unlocked Cell Phone with 32GB Memory, 6.4\" Screen, [SM-A205UZKAXAA], 12 Month Samsung US Warranty, GSM &amp; CDMA Compatible, Black</th>\n",
              "      <td>5.0</td>\n",
              "      <td>5.0</td>\n",
              "    </tr>\n",
              "    <tr>\n",
              "      <th>Samsung Galaxy J5 SM-J500H/DS GSM Factory Unlocked Smartphone, International Version (Gold)</th>\n",
              "      <td>2.0</td>\n",
              "      <td>2.0</td>\n",
              "    </tr>\n",
              "    <tr>\n",
              "      <th>Samsung Galaxy J7 - Verizon Carrier Locked No Contract Prepaid Smartphone</th>\n",
              "      <td>1.0</td>\n",
              "      <td>5.0</td>\n",
              "    </tr>\n",
              "    <tr>\n",
              "      <th>Samsung Galaxy Note 3, Black 32GB (Verizon Wireless)</th>\n",
              "      <td>5.0</td>\n",
              "      <td>5.0</td>\n",
              "    </tr>\n",
              "    <tr>\n",
              "      <th>Samsung Galaxy Note 5 SM-N920V Gold 32GB (Verizon Wireless)</th>\n",
              "      <td>1.0</td>\n",
              "      <td>5.0</td>\n",
              "    </tr>\n",
              "    <tr>\n",
              "      <th>Samsung Galaxy Note 5, Black  64GB (Verizon Wireless)</th>\n",
              "      <td>1.0</td>\n",
              "      <td>5.0</td>\n",
              "    </tr>\n",
              "    <tr>\n",
              "      <th>Samsung Galaxy Note 8 N950 Factory Unlocked Phone 64GB Midnight Black (Renewed)</th>\n",
              "      <td>1.0</td>\n",
              "      <td>5.0</td>\n",
              "    </tr>\n",
              "    <tr>\n",
              "      <th>Samsung Galaxy Note 9 Factory Unlocked Phone with 6.4\" Screen and 128GB (U.S. Warranty), Ocean Blue</th>\n",
              "      <td>1.0</td>\n",
              "      <td>5.0</td>\n",
              "    </tr>\n",
              "    <tr>\n",
              "      <th>Samsung Galaxy S4, White Frost 16GB (AT&amp;T)</th>\n",
              "      <td>1.0</td>\n",
              "      <td>5.0</td>\n",
              "    </tr>\n",
              "    <tr>\n",
              "      <th>Samsung Galaxy S5 G900V Verizon 4G LTE Smartphone w/ 16MP Camera - Black - Verizon</th>\n",
              "      <td>4.0</td>\n",
              "      <td>1.0</td>\n",
              "    </tr>\n",
              "    <tr>\n",
              "      <th>Samsung Galaxy S6 Active, 32 GB , Grey (AT&amp;T)</th>\n",
              "      <td>1.0</td>\n",
              "      <td>1.0</td>\n",
              "    </tr>\n",
              "    <tr>\n",
              "      <th>Samsung Galaxy S6 Edge, White Pearl 32GB (Verizon Wireless)</th>\n",
              "      <td>4.0</td>\n",
              "      <td>1.0</td>\n",
              "    </tr>\n",
              "    <tr>\n",
              "      <th>Samsung Galaxy S6 G920A 32GB Unlocked GSM 4G LTE Octa-Core Android Smartphone with 16MP Camera - Black Sapphire</th>\n",
              "      <td>1.0</td>\n",
              "      <td>1.0</td>\n",
              "    </tr>\n",
              "    <tr>\n",
              "      <th>Samsung Galaxy S7 - Black - 32GB - Verizon (Renewed)</th>\n",
              "      <td>1.0</td>\n",
              "      <td>5.0</td>\n",
              "    </tr>\n",
              "    <tr>\n",
              "      <th>Samsung Galaxy S7 EDGE G935V 32GB, Verizon/GSM Unlocked, (Renewed) (Black)</th>\n",
              "      <td>1.0</td>\n",
              "      <td>1.0</td>\n",
              "    </tr>\n",
              "    <tr>\n",
              "      <th>Samsung Galaxy S7 Edge G935FD 32GB Unlocked GSM 4G LTE</th>\n",
              "      <td>5.0</td>\n",
              "      <td>5.0</td>\n",
              "    </tr>\n",
              "    <tr>\n",
              "      <th>Samsung Galaxy S7 Edge G935V 32GB Gold - Verizon (Renewed)</th>\n",
              "      <td>1.0</td>\n",
              "      <td>1.0</td>\n",
              "    </tr>\n",
              "    <tr>\n",
              "      <th>Samsung Galaxy S7 SM-G930A AT&amp;T Unlocked Smartphone, (Black Onyx)</th>\n",
              "      <td>1.0</td>\n",
              "      <td>5.0</td>\n",
              "    </tr>\n",
              "    <tr>\n",
              "      <th>Samsung Galaxy S8 Plus (S8+) (SM-G955FD) 4GB RAM / 64GB ROM 6.2-Inch 12MP 4G LTE Dual SIM FACTORY UNLOCKED - International Stock No Warranty (MIDNIGHT BLACK)</th>\n",
              "      <td>4.0</td>\n",
              "      <td>5.0</td>\n",
              "    </tr>\n",
              "    <tr>\n",
              "      <th>Samsung Galaxy S8+ 64GB Factory Unlocked Smartphone - 6.2\" Screen - US Version (Midnight Black) - US Warranty [SM-G955UZKAXAA]</th>\n",
              "      <td>1.0</td>\n",
              "      <td>2.0</td>\n",
              "    </tr>\n",
              "    <tr>\n",
              "      <th>Sony Xperia XA Ultra (F3213) 4G LTE Unlocked GSM Phone w/ 6” Borderless Display, 21.5MP+16MP Cameras, Octa-Core CPU - White</th>\n",
              "      <td>2.0</td>\n",
              "      <td>3.0</td>\n",
              "    </tr>\n",
              "  </tbody>\n",
              "</table>\n",
              "</div>"
            ],
            "text/plain": [
              "user_id                                             Amazon Customer  \\\n",
              "title                                                                 \n",
              "Motorola DROID Turbo XT1254, Black Ballistic Ny...              4.0   \n",
              "Motorola G6 – 32 GB – Unlocked (AT&T/Sprint/T-M...              5.0   \n",
              "Nokia Lumia 635 8GB Unlocked GSM 4G LTE Windows...              5.0   \n",
              "Samsung Galaxy A20 US Version Factory Unlocked ...              5.0   \n",
              "Samsung Galaxy J5 SM-J500H/DS GSM Factory Unloc...              2.0   \n",
              "Samsung Galaxy J7 - Verizon Carrier Locked No C...              1.0   \n",
              "Samsung Galaxy Note 3, Black 32GB (Verizon Wire...              5.0   \n",
              "Samsung Galaxy Note 5 SM-N920V Gold 32GB (Veriz...              1.0   \n",
              "Samsung Galaxy Note 5, Black  64GB (Verizon Wir...              1.0   \n",
              "Samsung Galaxy Note 8 N950 Factory Unlocked Pho...              1.0   \n",
              "Samsung Galaxy Note 9 Factory Unlocked Phone wi...              1.0   \n",
              "Samsung Galaxy S4, White Frost 16GB (AT&T)                      1.0   \n",
              "Samsung Galaxy S5 G900V Verizon 4G LTE Smartpho...              4.0   \n",
              "Samsung Galaxy S6 Active, 32 GB , Grey (AT&T)                   1.0   \n",
              "Samsung Galaxy S6 Edge, White Pearl 32GB (Veriz...              4.0   \n",
              "Samsung Galaxy S6 G920A 32GB Unlocked GSM 4G LT...              1.0   \n",
              "Samsung Galaxy S7 - Black - 32GB - Verizon (Ren...              1.0   \n",
              "Samsung Galaxy S7 EDGE G935V 32GB, Verizon/GSM ...              1.0   \n",
              "Samsung Galaxy S7 Edge G935FD 32GB Unlocked GSM...              5.0   \n",
              "Samsung Galaxy S7 Edge G935V 32GB Gold - Verizo...              1.0   \n",
              "Samsung Galaxy S7 SM-G930A AT&T Unlocked Smartp...              1.0   \n",
              "Samsung Galaxy S8 Plus (S8+) (SM-G955FD) 4GB RA...              4.0   \n",
              "Samsung Galaxy S8+ 64GB Factory Unlocked Smartp...              1.0   \n",
              "Sony Xperia XA Ultra (F3213) 4G LTE Unlocked GS...              2.0   \n",
              "\n",
              "user_id                                             Kindle Customer  \n",
              "title                                                                \n",
              "Motorola DROID Turbo XT1254, Black Ballistic Ny...              5.0  \n",
              "Motorola G6 – 32 GB – Unlocked (AT&T/Sprint/T-M...              1.0  \n",
              "Nokia Lumia 635 8GB Unlocked GSM 4G LTE Windows...              5.0  \n",
              "Samsung Galaxy A20 US Version Factory Unlocked ...              5.0  \n",
              "Samsung Galaxy J5 SM-J500H/DS GSM Factory Unloc...              2.0  \n",
              "Samsung Galaxy J7 - Verizon Carrier Locked No C...              5.0  \n",
              "Samsung Galaxy Note 3, Black 32GB (Verizon Wire...              5.0  \n",
              "Samsung Galaxy Note 5 SM-N920V Gold 32GB (Veriz...              5.0  \n",
              "Samsung Galaxy Note 5, Black  64GB (Verizon Wir...              5.0  \n",
              "Samsung Galaxy Note 8 N950 Factory Unlocked Pho...              5.0  \n",
              "Samsung Galaxy Note 9 Factory Unlocked Phone wi...              5.0  \n",
              "Samsung Galaxy S4, White Frost 16GB (AT&T)                      5.0  \n",
              "Samsung Galaxy S5 G900V Verizon 4G LTE Smartpho...              1.0  \n",
              "Samsung Galaxy S6 Active, 32 GB , Grey (AT&T)                   1.0  \n",
              "Samsung Galaxy S6 Edge, White Pearl 32GB (Veriz...              1.0  \n",
              "Samsung Galaxy S6 G920A 32GB Unlocked GSM 4G LT...              1.0  \n",
              "Samsung Galaxy S7 - Black - 32GB - Verizon (Ren...              5.0  \n",
              "Samsung Galaxy S7 EDGE G935V 32GB, Verizon/GSM ...              1.0  \n",
              "Samsung Galaxy S7 Edge G935FD 32GB Unlocked GSM...              5.0  \n",
              "Samsung Galaxy S7 Edge G935V 32GB Gold - Verizo...              1.0  \n",
              "Samsung Galaxy S7 SM-G930A AT&T Unlocked Smartp...              5.0  \n",
              "Samsung Galaxy S8 Plus (S8+) (SM-G955FD) 4GB RA...              5.0  \n",
              "Samsung Galaxy S8+ 64GB Factory Unlocked Smartp...              2.0  \n",
              "Sony Xperia XA Ultra (F3213) 4G LTE Unlocked GS...              3.0  "
            ]
          },
          "execution_count": 40,
          "metadata": {},
          "output_type": "execute_result"
        }
      ],
      "source": [
        "print(user_phone_matrix.shape)\n",
        "user_phone_matrix"
      ]
    },
    {
      "cell_type": "markdown",
      "metadata": {
        "id": "dCUnhihSVm4f"
      },
      "source": [
        "# Training model"
      ]
    },
    {
      "cell_type": "code",
      "execution_count": 41,
      "metadata": {
        "id": "KgpT1Bu2Vm4g"
      },
      "outputs": [],
      "source": [
        "from scipy.sparse import csr_matrix\n",
        "from sklearn.neighbors import NearestNeighbors"
      ]
    },
    {
      "cell_type": "code",
      "execution_count": 42,
      "metadata": {
        "id": "YIPLf6iJVm4h"
      },
      "outputs": [],
      "source": [
        "book_sparse: csr_matrix = csr_matrix(user_phone_matrix)"
      ]
    },
    {
      "cell_type": "markdown",
      "metadata": {},
      "source": [
        "Now import our clustering algorithm which is Nearest Neighbors this is an unsupervised machine learning algorithm"
      ]
    },
    {
      "cell_type": "code",
      "execution_count": 43,
      "metadata": {
        "id": "ULKxwptiVm4j"
      },
      "outputs": [],
      "source": [
        "model: NearestNeighbors = NearestNeighbors(algorithm=\"brute\")"
      ]
    },
    {
      "cell_type": "code",
      "execution_count": 44,
      "metadata": {
        "colab": {
          "base_uri": "https://localhost:8080/",
          "height": 75
        },
        "id": "GYv1eWYDVm4j",
        "outputId": "fd32041a-3aea-4760-de90-54f9dce3e25f"
      },
      "outputs": [
        {
          "data": {
            "text/html": [
              "<style>#sk-container-id-1 {\n",
              "  /* Definition of color scheme common for light and dark mode */\n",
              "  --sklearn-color-text: black;\n",
              "  --sklearn-color-line: gray;\n",
              "  /* Definition of color scheme for unfitted estimators */\n",
              "  --sklearn-color-unfitted-level-0: #fff5e6;\n",
              "  --sklearn-color-unfitted-level-1: #f6e4d2;\n",
              "  --sklearn-color-unfitted-level-2: #ffe0b3;\n",
              "  --sklearn-color-unfitted-level-3: chocolate;\n",
              "  /* Definition of color scheme for fitted estimators */\n",
              "  --sklearn-color-fitted-level-0: #f0f8ff;\n",
              "  --sklearn-color-fitted-level-1: #d4ebff;\n",
              "  --sklearn-color-fitted-level-2: #b3dbfd;\n",
              "  --sklearn-color-fitted-level-3: cornflowerblue;\n",
              "\n",
              "  /* Specific color for light theme */\n",
              "  --sklearn-color-text-on-default-background: var(--sg-text-color, var(--theme-code-foreground, var(--jp-content-font-color1, black)));\n",
              "  --sklearn-color-background: var(--sg-background-color, var(--theme-background, var(--jp-layout-color0, white)));\n",
              "  --sklearn-color-border-box: var(--sg-text-color, var(--theme-code-foreground, var(--jp-content-font-color1, black)));\n",
              "  --sklearn-color-icon: #696969;\n",
              "\n",
              "  @media (prefers-color-scheme: dark) {\n",
              "    /* Redefinition of color scheme for dark theme */\n",
              "    --sklearn-color-text-on-default-background: var(--sg-text-color, var(--theme-code-foreground, var(--jp-content-font-color1, white)));\n",
              "    --sklearn-color-background: var(--sg-background-color, var(--theme-background, var(--jp-layout-color0, #111)));\n",
              "    --sklearn-color-border-box: var(--sg-text-color, var(--theme-code-foreground, var(--jp-content-font-color1, white)));\n",
              "    --sklearn-color-icon: #878787;\n",
              "  }\n",
              "}\n",
              "\n",
              "#sk-container-id-1 {\n",
              "  color: var(--sklearn-color-text);\n",
              "}\n",
              "\n",
              "#sk-container-id-1 pre {\n",
              "  padding: 0;\n",
              "}\n",
              "\n",
              "#sk-container-id-1 input.sk-hidden--visually {\n",
              "  border: 0;\n",
              "  clip: rect(1px 1px 1px 1px);\n",
              "  clip: rect(1px, 1px, 1px, 1px);\n",
              "  height: 1px;\n",
              "  margin: -1px;\n",
              "  overflow: hidden;\n",
              "  padding: 0;\n",
              "  position: absolute;\n",
              "  width: 1px;\n",
              "}\n",
              "\n",
              "#sk-container-id-1 div.sk-dashed-wrapped {\n",
              "  border: 1px dashed var(--sklearn-color-line);\n",
              "  margin: 0 0.4em 0.5em 0.4em;\n",
              "  box-sizing: border-box;\n",
              "  padding-bottom: 0.4em;\n",
              "  background-color: var(--sklearn-color-background);\n",
              "}\n",
              "\n",
              "#sk-container-id-1 div.sk-container {\n",
              "  /* jupyter's `normalize.less` sets `[hidden] { display: none; }`\n",
              "     but bootstrap.min.css set `[hidden] { display: none !important; }`\n",
              "     so we also need the `!important` here to be able to override the\n",
              "     default hidden behavior on the sphinx rendered scikit-learn.org.\n",
              "     See: https://github.com/scikit-learn/scikit-learn/issues/21755 */\n",
              "  display: inline-block !important;\n",
              "  position: relative;\n",
              "}\n",
              "\n",
              "#sk-container-id-1 div.sk-text-repr-fallback {\n",
              "  display: none;\n",
              "}\n",
              "\n",
              "div.sk-parallel-item,\n",
              "div.sk-serial,\n",
              "div.sk-item {\n",
              "  /* draw centered vertical line to link estimators */\n",
              "  background-image: linear-gradient(var(--sklearn-color-text-on-default-background), var(--sklearn-color-text-on-default-background));\n",
              "  background-size: 2px 100%;\n",
              "  background-repeat: no-repeat;\n",
              "  background-position: center center;\n",
              "}\n",
              "\n",
              "/* Parallel-specific style estimator block */\n",
              "\n",
              "#sk-container-id-1 div.sk-parallel-item::after {\n",
              "  content: \"\";\n",
              "  width: 100%;\n",
              "  border-bottom: 2px solid var(--sklearn-color-text-on-default-background);\n",
              "  flex-grow: 1;\n",
              "}\n",
              "\n",
              "#sk-container-id-1 div.sk-parallel {\n",
              "  display: flex;\n",
              "  align-items: stretch;\n",
              "  justify-content: center;\n",
              "  background-color: var(--sklearn-color-background);\n",
              "  position: relative;\n",
              "}\n",
              "\n",
              "#sk-container-id-1 div.sk-parallel-item {\n",
              "  display: flex;\n",
              "  flex-direction: column;\n",
              "}\n",
              "\n",
              "#sk-container-id-1 div.sk-parallel-item:first-child::after {\n",
              "  align-self: flex-end;\n",
              "  width: 50%;\n",
              "}\n",
              "\n",
              "#sk-container-id-1 div.sk-parallel-item:last-child::after {\n",
              "  align-self: flex-start;\n",
              "  width: 50%;\n",
              "}\n",
              "\n",
              "#sk-container-id-1 div.sk-parallel-item:only-child::after {\n",
              "  width: 0;\n",
              "}\n",
              "\n",
              "/* Serial-specific style estimator block */\n",
              "\n",
              "#sk-container-id-1 div.sk-serial {\n",
              "  display: flex;\n",
              "  flex-direction: column;\n",
              "  align-items: center;\n",
              "  background-color: var(--sklearn-color-background);\n",
              "  padding-right: 1em;\n",
              "  padding-left: 1em;\n",
              "}\n",
              "\n",
              "\n",
              "/* Toggleable style: style used for estimator/Pipeline/ColumnTransformer box that is\n",
              "clickable and can be expanded/collapsed.\n",
              "- Pipeline and ColumnTransformer use this feature and define the default style\n",
              "- Estimators will overwrite some part of the style using the `sk-estimator` class\n",
              "*/\n",
              "\n",
              "/* Pipeline and ColumnTransformer style (default) */\n",
              "\n",
              "#sk-container-id-1 div.sk-toggleable {\n",
              "  /* Default theme specific background. It is overwritten whether we have a\n",
              "  specific estimator or a Pipeline/ColumnTransformer */\n",
              "  background-color: var(--sklearn-color-background);\n",
              "}\n",
              "\n",
              "/* Toggleable label */\n",
              "#sk-container-id-1 label.sk-toggleable__label {\n",
              "  cursor: pointer;\n",
              "  display: block;\n",
              "  width: 100%;\n",
              "  margin-bottom: 0;\n",
              "  padding: 0.5em;\n",
              "  box-sizing: border-box;\n",
              "  text-align: center;\n",
              "}\n",
              "\n",
              "#sk-container-id-1 label.sk-toggleable__label-arrow:before {\n",
              "  /* Arrow on the left of the label */\n",
              "  content: \"▸\";\n",
              "  float: left;\n",
              "  margin-right: 0.25em;\n",
              "  color: var(--sklearn-color-icon);\n",
              "}\n",
              "\n",
              "#sk-container-id-1 label.sk-toggleable__label-arrow:hover:before {\n",
              "  color: var(--sklearn-color-text);\n",
              "}\n",
              "\n",
              "/* Toggleable content - dropdown */\n",
              "\n",
              "#sk-container-id-1 div.sk-toggleable__content {\n",
              "  max-height: 0;\n",
              "  max-width: 0;\n",
              "  overflow: hidden;\n",
              "  text-align: left;\n",
              "  /* unfitted */\n",
              "  background-color: var(--sklearn-color-unfitted-level-0);\n",
              "}\n",
              "\n",
              "#sk-container-id-1 div.sk-toggleable__content.fitted {\n",
              "  /* fitted */\n",
              "  background-color: var(--sklearn-color-fitted-level-0);\n",
              "}\n",
              "\n",
              "#sk-container-id-1 div.sk-toggleable__content pre {\n",
              "  margin: 0.2em;\n",
              "  border-radius: 0.25em;\n",
              "  color: var(--sklearn-color-text);\n",
              "  /* unfitted */\n",
              "  background-color: var(--sklearn-color-unfitted-level-0);\n",
              "}\n",
              "\n",
              "#sk-container-id-1 div.sk-toggleable__content.fitted pre {\n",
              "  /* unfitted */\n",
              "  background-color: var(--sklearn-color-fitted-level-0);\n",
              "}\n",
              "\n",
              "#sk-container-id-1 input.sk-toggleable__control:checked~div.sk-toggleable__content {\n",
              "  /* Expand drop-down */\n",
              "  max-height: 200px;\n",
              "  max-width: 100%;\n",
              "  overflow: auto;\n",
              "}\n",
              "\n",
              "#sk-container-id-1 input.sk-toggleable__control:checked~label.sk-toggleable__label-arrow:before {\n",
              "  content: \"▾\";\n",
              "}\n",
              "\n",
              "/* Pipeline/ColumnTransformer-specific style */\n",
              "\n",
              "#sk-container-id-1 div.sk-label input.sk-toggleable__control:checked~label.sk-toggleable__label {\n",
              "  color: var(--sklearn-color-text);\n",
              "  background-color: var(--sklearn-color-unfitted-level-2);\n",
              "}\n",
              "\n",
              "#sk-container-id-1 div.sk-label.fitted input.sk-toggleable__control:checked~label.sk-toggleable__label {\n",
              "  background-color: var(--sklearn-color-fitted-level-2);\n",
              "}\n",
              "\n",
              "/* Estimator-specific style */\n",
              "\n",
              "/* Colorize estimator box */\n",
              "#sk-container-id-1 div.sk-estimator input.sk-toggleable__control:checked~label.sk-toggleable__label {\n",
              "  /* unfitted */\n",
              "  background-color: var(--sklearn-color-unfitted-level-2);\n",
              "}\n",
              "\n",
              "#sk-container-id-1 div.sk-estimator.fitted input.sk-toggleable__control:checked~label.sk-toggleable__label {\n",
              "  /* fitted */\n",
              "  background-color: var(--sklearn-color-fitted-level-2);\n",
              "}\n",
              "\n",
              "#sk-container-id-1 div.sk-label label.sk-toggleable__label,\n",
              "#sk-container-id-1 div.sk-label label {\n",
              "  /* The background is the default theme color */\n",
              "  color: var(--sklearn-color-text-on-default-background);\n",
              "}\n",
              "\n",
              "/* On hover, darken the color of the background */\n",
              "#sk-container-id-1 div.sk-label:hover label.sk-toggleable__label {\n",
              "  color: var(--sklearn-color-text);\n",
              "  background-color: var(--sklearn-color-unfitted-level-2);\n",
              "}\n",
              "\n",
              "/* Label box, darken color on hover, fitted */\n",
              "#sk-container-id-1 div.sk-label.fitted:hover label.sk-toggleable__label.fitted {\n",
              "  color: var(--sklearn-color-text);\n",
              "  background-color: var(--sklearn-color-fitted-level-2);\n",
              "}\n",
              "\n",
              "/* Estimator label */\n",
              "\n",
              "#sk-container-id-1 div.sk-label label {\n",
              "  font-family: monospace;\n",
              "  font-weight: bold;\n",
              "  display: inline-block;\n",
              "  line-height: 1.2em;\n",
              "}\n",
              "\n",
              "#sk-container-id-1 div.sk-label-container {\n",
              "  text-align: center;\n",
              "}\n",
              "\n",
              "/* Estimator-specific */\n",
              "#sk-container-id-1 div.sk-estimator {\n",
              "  font-family: monospace;\n",
              "  border: 1px dotted var(--sklearn-color-border-box);\n",
              "  border-radius: 0.25em;\n",
              "  box-sizing: border-box;\n",
              "  margin-bottom: 0.5em;\n",
              "  /* unfitted */\n",
              "  background-color: var(--sklearn-color-unfitted-level-0);\n",
              "}\n",
              "\n",
              "#sk-container-id-1 div.sk-estimator.fitted {\n",
              "  /* fitted */\n",
              "  background-color: var(--sklearn-color-fitted-level-0);\n",
              "}\n",
              "\n",
              "/* on hover */\n",
              "#sk-container-id-1 div.sk-estimator:hover {\n",
              "  /* unfitted */\n",
              "  background-color: var(--sklearn-color-unfitted-level-2);\n",
              "}\n",
              "\n",
              "#sk-container-id-1 div.sk-estimator.fitted:hover {\n",
              "  /* fitted */\n",
              "  background-color: var(--sklearn-color-fitted-level-2);\n",
              "}\n",
              "\n",
              "/* Specification for estimator info (e.g. \"i\" and \"?\") */\n",
              "\n",
              "/* Common style for \"i\" and \"?\" */\n",
              "\n",
              ".sk-estimator-doc-link,\n",
              "a:link.sk-estimator-doc-link,\n",
              "a:visited.sk-estimator-doc-link {\n",
              "  float: right;\n",
              "  font-size: smaller;\n",
              "  line-height: 1em;\n",
              "  font-family: monospace;\n",
              "  background-color: var(--sklearn-color-background);\n",
              "  border-radius: 1em;\n",
              "  height: 1em;\n",
              "  width: 1em;\n",
              "  text-decoration: none !important;\n",
              "  margin-left: 1ex;\n",
              "  /* unfitted */\n",
              "  border: var(--sklearn-color-unfitted-level-1) 1pt solid;\n",
              "  color: var(--sklearn-color-unfitted-level-1);\n",
              "}\n",
              "\n",
              ".sk-estimator-doc-link.fitted,\n",
              "a:link.sk-estimator-doc-link.fitted,\n",
              "a:visited.sk-estimator-doc-link.fitted {\n",
              "  /* fitted */\n",
              "  border: var(--sklearn-color-fitted-level-1) 1pt solid;\n",
              "  color: var(--sklearn-color-fitted-level-1);\n",
              "}\n",
              "\n",
              "/* On hover */\n",
              "div.sk-estimator:hover .sk-estimator-doc-link:hover,\n",
              ".sk-estimator-doc-link:hover,\n",
              "div.sk-label-container:hover .sk-estimator-doc-link:hover,\n",
              ".sk-estimator-doc-link:hover {\n",
              "  /* unfitted */\n",
              "  background-color: var(--sklearn-color-unfitted-level-3);\n",
              "  color: var(--sklearn-color-background);\n",
              "  text-decoration: none;\n",
              "}\n",
              "\n",
              "div.sk-estimator.fitted:hover .sk-estimator-doc-link.fitted:hover,\n",
              ".sk-estimator-doc-link.fitted:hover,\n",
              "div.sk-label-container:hover .sk-estimator-doc-link.fitted:hover,\n",
              ".sk-estimator-doc-link.fitted:hover {\n",
              "  /* fitted */\n",
              "  background-color: var(--sklearn-color-fitted-level-3);\n",
              "  color: var(--sklearn-color-background);\n",
              "  text-decoration: none;\n",
              "}\n",
              "\n",
              "/* Span, style for the box shown on hovering the info icon */\n",
              ".sk-estimator-doc-link span {\n",
              "  display: none;\n",
              "  z-index: 9999;\n",
              "  position: relative;\n",
              "  font-weight: normal;\n",
              "  right: .2ex;\n",
              "  padding: .5ex;\n",
              "  margin: .5ex;\n",
              "  width: min-content;\n",
              "  min-width: 20ex;\n",
              "  max-width: 50ex;\n",
              "  color: var(--sklearn-color-text);\n",
              "  box-shadow: 2pt 2pt 4pt #999;\n",
              "  /* unfitted */\n",
              "  background: var(--sklearn-color-unfitted-level-0);\n",
              "  border: .5pt solid var(--sklearn-color-unfitted-level-3);\n",
              "}\n",
              "\n",
              ".sk-estimator-doc-link.fitted span {\n",
              "  /* fitted */\n",
              "  background: var(--sklearn-color-fitted-level-0);\n",
              "  border: var(--sklearn-color-fitted-level-3);\n",
              "}\n",
              "\n",
              ".sk-estimator-doc-link:hover span {\n",
              "  display: block;\n",
              "}\n",
              "\n",
              "/* \"?\"-specific style due to the `<a>` HTML tag */\n",
              "\n",
              "#sk-container-id-1 a.estimator_doc_link {\n",
              "  float: right;\n",
              "  font-size: 1rem;\n",
              "  line-height: 1em;\n",
              "  font-family: monospace;\n",
              "  background-color: var(--sklearn-color-background);\n",
              "  border-radius: 1rem;\n",
              "  height: 1rem;\n",
              "  width: 1rem;\n",
              "  text-decoration: none;\n",
              "  /* unfitted */\n",
              "  color: var(--sklearn-color-unfitted-level-1);\n",
              "  border: var(--sklearn-color-unfitted-level-1) 1pt solid;\n",
              "}\n",
              "\n",
              "#sk-container-id-1 a.estimator_doc_link.fitted {\n",
              "  /* fitted */\n",
              "  border: var(--sklearn-color-fitted-level-1) 1pt solid;\n",
              "  color: var(--sklearn-color-fitted-level-1);\n",
              "}\n",
              "\n",
              "/* On hover */\n",
              "#sk-container-id-1 a.estimator_doc_link:hover {\n",
              "  /* unfitted */\n",
              "  background-color: var(--sklearn-color-unfitted-level-3);\n",
              "  color: var(--sklearn-color-background);\n",
              "  text-decoration: none;\n",
              "}\n",
              "\n",
              "#sk-container-id-1 a.estimator_doc_link.fitted:hover {\n",
              "  /* fitted */\n",
              "  background-color: var(--sklearn-color-fitted-level-3);\n",
              "}\n",
              "</style><div id=\"sk-container-id-1\" class=\"sk-top-container\"><div class=\"sk-text-repr-fallback\"><pre>NearestNeighbors(algorithm=&#x27;brute&#x27;)</pre><b>In a Jupyter environment, please rerun this cell to show the HTML representation or trust the notebook. <br />On GitHub, the HTML representation is unable to render, please try loading this page with nbviewer.org.</b></div><div class=\"sk-container\" hidden><div class=\"sk-item\"><div class=\"sk-estimator fitted sk-toggleable\"><input class=\"sk-toggleable__control sk-hidden--visually\" id=\"sk-estimator-id-1\" type=\"checkbox\" checked><label for=\"sk-estimator-id-1\" class=\"sk-toggleable__label fitted sk-toggleable__label-arrow fitted\">&nbsp;&nbsp;NearestNeighbors<a class=\"sk-estimator-doc-link fitted\" rel=\"noreferrer\" target=\"_blank\" href=\"https://scikit-learn.org/1.5/modules/generated/sklearn.neighbors.NearestNeighbors.html\">?<span>Documentation for NearestNeighbors</span></a><span class=\"sk-estimator-doc-link fitted\">i<span>Fitted</span></span></label><div class=\"sk-toggleable__content fitted\"><pre>NearestNeighbors(algorithm=&#x27;brute&#x27;)</pre></div> </div></div></div></div>"
            ],
            "text/plain": [
              "NearestNeighbors(algorithm='brute')"
            ]
          },
          "execution_count": 44,
          "metadata": {},
          "output_type": "execute_result"
        }
      ],
      "source": [
        "model.fit(book_sparse)"
      ]
    },
    {
      "cell_type": "code",
      "execution_count": 45,
      "metadata": {
        "id": "vAG-7KvLVm4k"
      },
      "outputs": [],
      "source": [
        "distance, suggestion = model.kneighbors(user_phone_matrix.iloc[1,:].values.reshape(1,-1), n_neighbors=6 )"
      ]
    },
    {
      "cell_type": "markdown",
      "metadata": {},
      "source": [
        "Let's say the `model` is your trained model"
      ]
    },
    {
      "cell_type": "code",
      "execution_count": 46,
      "metadata": {
        "colab": {
          "base_uri": "https://localhost:8080/"
        },
        "id": "jrVcYs0MxbYK",
        "outputId": "2fdd386d-414f-46d7-a7b3-9a38be9d4f28"
      },
      "outputs": [],
      "source": [
        "with open('artifacts/model.pkl', 'wb') as file:\n",
        "    pkl.dump(model, file)"
      ]
    },
    {
      "cell_type": "code",
      "execution_count": 47,
      "metadata": {
        "id": "eIDJ_YJwx-Wk"
      },
      "outputs": [],
      "source": [
        "with open(\"artifacts/user_phone_matrix.pkl\", \"wb\") as file:\n",
        "    pkl.dump(user_phone_matrix, file)"
      ]
    },
    {
      "cell_type": "code",
      "execution_count": 48,
      "metadata": {
        "colab": {
          "base_uri": "https://localhost:8080/"
        },
        "id": "_2guT0OOVm4l",
        "outputId": "97e98ae9-2095-47b5-cdc2-e3131420b3a2"
      },
      "outputs": [
        {
          "data": {
            "text/plain": [
              "array([[0.        , 1.        , 1.        , 3.16227766, 3.60555128,\n",
              "        4.        ]])"
            ]
          },
          "execution_count": 48,
          "metadata": {},
          "output_type": "execute_result"
        }
      ],
      "source": [
        "distance"
      ]
    },
    {
      "cell_type": "code",
      "execution_count": 49,
      "metadata": {
        "colab": {
          "base_uri": "https://localhost:8080/"
        },
        "id": "ezkF_s1sVm4m",
        "outputId": "86c03a58-b221-4faa-ad4d-e04ed2c7c7a2"
      },
      "outputs": [
        {
          "data": {
            "text/plain": [
              "array([[ 1, 12, 14,  4, 23,  3]], dtype=int64)"
            ]
          },
          "execution_count": 49,
          "metadata": {},
          "output_type": "execute_result"
        }
      ],
      "source": [
        "suggestion"
      ]
    },
    {
      "cell_type": "code",
      "execution_count": 50,
      "metadata": {
        "colab": {
          "base_uri": "https://localhost:8080/"
        },
        "id": "KklCgmVTVm4m",
        "outputId": "4b68f3bc-e970-4146-a2e1-51222c324ad1"
      },
      "outputs": [
        {
          "data": {
            "text/plain": [
              "user_id\n",
              "Amazon Customer    5.0\n",
              "Kindle Customer    1.0\n",
              "Name: Motorola G6 – 32 GB – Unlocked (AT&T/Sprint/T-Mobile/Verizon) – Deep Indigo - (U.S. Warranty) - PAAE0011US, dtype: float64"
            ]
          },
          "execution_count": 50,
          "metadata": {},
          "output_type": "execute_result"
        }
      ],
      "source": [
        "user_phone_matrix.iloc[1,:]"
      ]
    },
    {
      "cell_type": "code",
      "execution_count": 51,
      "metadata": {
        "colab": {
          "base_uri": "https://localhost:8080/"
        },
        "id": "GPXvZSPcVm4n",
        "outputId": "2648ff64-c28b-4c3b-fc58-6a54033c8c77"
      },
      "outputs": [
        {
          "name": "stdout",
          "output_type": "stream",
          "text": [
            "Index(['Motorola G6 – 32 GB – Unlocked (AT&T/Sprint/T-Mobile/Verizon) – Deep Indigo - (U.S. Warranty) - PAAE0011US',\n",
            "       'Samsung Galaxy S5 G900V Verizon 4G LTE Smartphone w/ 16MP Camera - Black - Verizon',\n",
            "       'Samsung Galaxy S6 Edge, White Pearl 32GB (Verizon Wireless)',\n",
            "       'Samsung Galaxy J5 SM-J500H/DS GSM Factory Unlocked Smartphone, International Version (Gold)',\n",
            "       'Sony Xperia XA Ultra (F3213) 4G LTE Unlocked GSM Phone w/ 6” Borderless Display, 21.5MP+16MP Cameras, Octa-Core CPU - White',\n",
            "       'Samsung Galaxy A20 US Version Factory Unlocked Cell Phone with 32GB Memory, 6.4\" Screen, [SM-A205UZKAXAA], 12 Month Samsung US Warranty, GSM & CDMA Compatible, Black'],\n",
            "      dtype='object', name='title')\n"
          ]
        }
      ],
      "source": [
        "for i in range(len(suggestion)):\n",
        "    print(user_phone_matrix.index[suggestion[i]])"
      ]
    },
    {
      "cell_type": "code",
      "execution_count": 52,
      "metadata": {
        "colab": {
          "base_uri": "https://localhost:8080/",
          "height": 35
        },
        "id": "yehoQ4BfVm4r",
        "outputId": "83eea478-dc37-4c69-be5e-84f13455e254"
      },
      "outputs": [
        {
          "data": {
            "text/plain": [
              "'Samsung Galaxy A20 US Version Factory Unlocked Cell Phone with 32GB Memory, 6.4\" Screen, [SM-A205UZKAXAA], 12 Month Samsung US Warranty, GSM & CDMA Compatible, Black'"
            ]
          },
          "execution_count": 52,
          "metadata": {},
          "output_type": "execute_result"
        }
      ],
      "source": [
        "user_phone_matrix.index[3]"
      ]
    },
    {
      "cell_type": "code",
      "execution_count": 53,
      "metadata": {
        "id": "4abLWTJwVm4s"
      },
      "outputs": [],
      "source": [
        "#keeping phones name\n",
        "phone_names = user_phone_matrix.index"
      ]
    },
    {
      "cell_type": "code",
      "execution_count": 54,
      "metadata": {
        "id": "hX0dQOyXyNfI"
      },
      "outputs": [],
      "source": [
        "with open('artifacts/phone_names.pkl', 'wb') as file:\n",
        "    pkl.dump(phone_names, file)"
      ]
    },
    {
      "cell_type": "code",
      "execution_count": 55,
      "metadata": {
        "colab": {
          "base_uri": "https://localhost:8080/",
          "height": 35
        },
        "id": "uo3QSAMKVm4t",
        "outputId": "6ea332ed-ca24-46e9-dd3a-d2512be84c4c"
      },
      "outputs": [
        {
          "data": {
            "text/plain": [
              "'Nokia Lumia 635 8GB Unlocked GSM 4G LTE Windows 8.1 Quad-Core Phone - Black'"
            ]
          },
          "execution_count": 55,
          "metadata": {},
          "output_type": "execute_result"
        }
      ],
      "source": [
        "phone_names[2]"
      ]
    },
    {
      "cell_type": "markdown",
      "metadata": {
        "id": "m9rVMsUIVm4u"
      },
      "source": [
        "# Find image url"
      ]
    },
    {
      "cell_type": "code",
      "execution_count": 56,
      "metadata": {
        "id": "cEaA-JolVm4u"
      },
      "outputs": [],
      "source": [
        "# final_rating['title'].value_counts()\n",
        "ids = np.where(final_rating['title'] == \"Motorola DROID Turbo XT1254, Black Ballistic Nylon 32GB (Verizon Wireless)\")[0][0]"
      ]
    },
    {
      "cell_type": "code",
      "execution_count": 57,
      "metadata": {
        "colab": {
          "base_uri": "https://localhost:8080/",
          "height": 35
        },
        "id": "wQ1m1IuOVm4v",
        "outputId": "75f2027a-5049-417a-f3f8-e504420e3d69"
      },
      "outputs": [
        {
          "data": {
            "text/plain": [
              "'https://m.media-amazon.com/images/I/81VMO0UpxfL._AC_UY218_ML3_.jpg'"
            ]
          },
          "execution_count": 57,
          "metadata": {},
          "output_type": "execute_result"
        }
      ],
      "source": [
        "final_rating.iloc[ids]['image']"
      ]
    },
    {
      "cell_type": "code",
      "execution_count": 58,
      "metadata": {
        "id": "kjKzr0rBVm4v"
      },
      "outputs": [],
      "source": [
        "phone_name_list = []\n",
        "for phone_id in suggestion:\n",
        "    phone_name_list.append(user_phone_matrix.index[phone_id])"
      ]
    },
    {
      "cell_type": "code",
      "execution_count": 59,
      "metadata": {
        "colab": {
          "base_uri": "https://localhost:8080/"
        },
        "id": "enzALLunVm4v",
        "outputId": "e527ebcd-a470-47ab-a6ac-0d7c9f26263d"
      },
      "outputs": [
        {
          "data": {
            "text/plain": [
              "Index(['Motorola G6 – 32 GB – Unlocked (AT&T/Sprint/T-Mobile/Verizon) – Deep Indigo - (U.S. Warranty) - PAAE0011US',\n",
              "       'Samsung Galaxy S5 G900V Verizon 4G LTE Smartphone w/ 16MP Camera - Black - Verizon',\n",
              "       'Samsung Galaxy S6 Edge, White Pearl 32GB (Verizon Wireless)',\n",
              "       'Samsung Galaxy J5 SM-J500H/DS GSM Factory Unlocked Smartphone, International Version (Gold)',\n",
              "       'Sony Xperia XA Ultra (F3213) 4G LTE Unlocked GSM Phone w/ 6” Borderless Display, 21.5MP+16MP Cameras, Octa-Core CPU - White',\n",
              "       'Samsung Galaxy A20 US Version Factory Unlocked Cell Phone with 32GB Memory, 6.4\" Screen, [SM-A205UZKAXAA], 12 Month Samsung US Warranty, GSM & CDMA Compatible, Black'],\n",
              "      dtype='object', name='title')"
            ]
          },
          "execution_count": 59,
          "metadata": {},
          "output_type": "execute_result"
        }
      ],
      "source": [
        "phone_name_list[0]"
      ]
    },
    {
      "cell_type": "code",
      "execution_count": 60,
      "metadata": {
        "id": "y7co-SnlVm4w"
      },
      "outputs": [],
      "source": [
        "ids_index = []\n",
        "for name in phone_name_list[0]:\n",
        "    ids = np.where(final_rating['title'] == name)[0][0]\n",
        "    ids_index.append(ids)"
      ]
    },
    {
      "cell_type": "code",
      "execution_count": 61,
      "metadata": {
        "colab": {
          "base_uri": "https://localhost:8080/"
        },
        "id": "CB7-qGAUVm4w",
        "outputId": "af525668-227d-4641-a11d-3ba6f0c6db3c"
      },
      "outputs": [
        {
          "name": "stdout",
          "output_type": "stream",
          "text": [
            "https://m.media-amazon.com/images/I/51L6DbMbvKL._AC_UY218_ML3_.jpg\n",
            "https://m.media-amazon.com/images/I/91s1UjlYJHL._AC_UY218_ML3_.jpg\n",
            "https://m.media-amazon.com/images/I/814WwhaRVuL._AC_UY218_ML3_.jpg\n",
            "https://m.media-amazon.com/images/I/61alJun3JvL._AC_UY218_ML3_.jpg\n",
            "https://m.media-amazon.com/images/I/81A-Ww8FqNL._AC_UY218_ML3_.jpg\n",
            "https://m.media-amazon.com/images/I/51V-XG0uBDL._AC_UY218_ML3_.jpg\n"
          ]
        }
      ],
      "source": [
        "for idx in ids_index:\n",
        "    url = final_rating.iloc[idx]['image']\n",
        "    print(url)"
      ]
    },
    {
      "cell_type": "code",
      "execution_count": 62,
      "metadata": {
        "id": "-4lNHoxHVm4y"
      },
      "outputs": [],
      "source": [
        "pkl.dump(model, open(\"artifacts/model.pkl\", \"wb\"),)\n",
        "pkl.dump(phone_names, open(\"artifacts/phone_names.pkl\", \"wb\"),)\n",
        "pkl.dump(final_rating, open(\"artifacts/final_rating.pkl\", \"wb\"),)\n",
        "pkl.dump(user_phone_matrix, open(\"artifacts/user_phone_matrix.pkl\", \"wb\"),)"
      ]
    },
    {
      "cell_type": "markdown",
      "metadata": {
        "id": "GwEEfyq_Vm4z"
      },
      "source": [
        "# Testing model"
      ]
    },
    {
      "cell_type": "code",
      "execution_count": 63,
      "metadata": {
        "id": "6KBDAZWCVm40"
      },
      "outputs": [],
      "source": [
        "def recommend_book(phone_name):\n",
        "    phone_id = np.where(user_phone_matrix.index == phone_name)[0][0]\n",
        "    distance, suggestion = model.kneighbors(\n",
        "        user_phone_matrix.iloc[phone_id, :].values.reshape(1, -1),\n",
        "        n_neighbors=6,\n",
        "    )\n",
        "\n",
        "    for i in range(len(suggestion)):\n",
        "        phones = user_phone_matrix.index[suggestion[i]]\n",
        "        for j in phones:\n",
        "            if j == phone_name:\n",
        "                print(f\"You searched '{phone_name}'\\n\")\n",
        "                print(\"The suggestion books are: \\n\")\n",
        "            else:\n",
        "                print(j)"
      ]
    },
    {
      "cell_type": "code",
      "execution_count": 64,
      "metadata": {
        "colab": {
          "base_uri": "https://localhost:8080/"
        },
        "id": "1pBTv61vVm40",
        "outputId": "5f72f092-9c80-407f-8a06-c3ad79eaf66d"
      },
      "outputs": [
        {
          "name": "stdout",
          "output_type": "stream",
          "text": [
            "You searched 'Motorola DROID Turbo XT1254, Black Ballistic Nylon 32GB (Verizon Wireless)'\n",
            "\n",
            "The suggestion books are: \n",
            "\n",
            "Samsung Galaxy S8 Plus (S8+) (SM-G955FD) 4GB RAM / 64GB ROM 6.2-Inch 12MP 4G LTE Dual SIM FACTORY UNLOCKED - International Stock No Warranty (MIDNIGHT BLACK)\n",
            "Samsung Galaxy A20 US Version Factory Unlocked Cell Phone with 32GB Memory, 6.4\" Screen, [SM-A205UZKAXAA], 12 Month Samsung US Warranty, GSM & CDMA Compatible, Black\n",
            "Samsung Galaxy S7 Edge G935FD 32GB Unlocked GSM 4G LTE\n",
            "Nokia Lumia 635 8GB Unlocked GSM 4G LTE Windows 8.1 Quad-Core Phone - Black\n",
            "Samsung Galaxy Note 3, Black 32GB (Verizon Wireless)\n"
          ]
        }
      ],
      "source": [
        "phone_name_list = \"Motorola DROID Turbo XT1254, Black Ballistic Nylon 32GB (Verizon Wireless)\"\n",
        "recommend_book(phone_name_list)"
      ]
    }
  ],
  "metadata": {
    "colab": {
      "provenance": []
    },
    "kernelspec": {
      "display_name": "Python 3 (ipykernel)",
      "language": "python",
      "name": "python3"
    },
    "language_info": {
      "codemirror_mode": {
        "name": "ipython",
        "version": 3
      },
      "file_extension": ".py",
      "mimetype": "text/x-python",
      "name": "python",
      "nbconvert_exporter": "python",
      "pygments_lexer": "ipython3",
      "version": "3.12.3"
    }
  },
  "nbformat": 4,
  "nbformat_minor": 0
}
